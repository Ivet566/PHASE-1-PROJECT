{
 "cells": [
  {
   "cell_type": "code",
   "execution_count": 2717,
   "metadata": {},
   "outputs": [],
   "source": [
    "import pandas as pd\n",
    "import matplotlib.pyplot as plt\n",
    "import numpy as np"
   ]
  },
  {
   "cell_type": "code",
   "execution_count": 2718,
   "metadata": {},
   "outputs": [
    {
     "name": "stderr",
     "output_type": "stream",
     "text": [
      "c:\\Users\\User\\anaconda3\\envs\\learn-env\\lib\\site-packages\\IPython\\core\\interactiveshell.py:3145: DtypeWarning: Columns (6,7,28) have mixed types.Specify dtype option on import or set low_memory=False.\n",
      "  has_raised = await self.run_ast_nodes(code_ast.body, cell_name,\n"
     ]
    },
    {
     "data": {
      "text/html": [
       "<div>\n",
       "<style scoped>\n",
       "    .dataframe tbody tr th:only-of-type {\n",
       "        vertical-align: middle;\n",
       "    }\n",
       "\n",
       "    .dataframe tbody tr th {\n",
       "        vertical-align: top;\n",
       "    }\n",
       "\n",
       "    .dataframe thead th {\n",
       "        text-align: right;\n",
       "    }\n",
       "</style>\n",
       "<table border=\"1\" class=\"dataframe\">\n",
       "  <thead>\n",
       "    <tr style=\"text-align: right;\">\n",
       "      <th></th>\n",
       "      <th>Event.Id</th>\n",
       "      <th>Investigation.Type</th>\n",
       "      <th>Accident.Number</th>\n",
       "      <th>Event.Date</th>\n",
       "      <th>Location</th>\n",
       "      <th>Country</th>\n",
       "      <th>Latitude</th>\n",
       "      <th>Longitude</th>\n",
       "      <th>Airport.Code</th>\n",
       "      <th>Airport.Name</th>\n",
       "      <th>...</th>\n",
       "      <th>Purpose.of.flight</th>\n",
       "      <th>Air.carrier</th>\n",
       "      <th>Total.Fatal.Injuries</th>\n",
       "      <th>Total.Serious.Injuries</th>\n",
       "      <th>Total.Minor.Injuries</th>\n",
       "      <th>Total.Uninjured</th>\n",
       "      <th>Weather.Condition</th>\n",
       "      <th>Broad.phase.of.flight</th>\n",
       "      <th>Report.Status</th>\n",
       "      <th>Publication.Date</th>\n",
       "    </tr>\n",
       "  </thead>\n",
       "  <tbody>\n",
       "    <tr>\n",
       "      <th>0</th>\n",
       "      <td>20001218X45444</td>\n",
       "      <td>Accident</td>\n",
       "      <td>SEA87LA080</td>\n",
       "      <td>1948-10-24</td>\n",
       "      <td>MOOSE CREEK, ID</td>\n",
       "      <td>United States</td>\n",
       "      <td>NaN</td>\n",
       "      <td>NaN</td>\n",
       "      <td>NaN</td>\n",
       "      <td>NaN</td>\n",
       "      <td>...</td>\n",
       "      <td>Personal</td>\n",
       "      <td>NaN</td>\n",
       "      <td>2.0</td>\n",
       "      <td>0.0</td>\n",
       "      <td>0.0</td>\n",
       "      <td>0.0</td>\n",
       "      <td>UNK</td>\n",
       "      <td>Cruise</td>\n",
       "      <td>Probable Cause</td>\n",
       "      <td>NaN</td>\n",
       "    </tr>\n",
       "    <tr>\n",
       "      <th>1</th>\n",
       "      <td>20001218X45447</td>\n",
       "      <td>Accident</td>\n",
       "      <td>LAX94LA336</td>\n",
       "      <td>1962-07-19</td>\n",
       "      <td>BRIDGEPORT, CA</td>\n",
       "      <td>United States</td>\n",
       "      <td>NaN</td>\n",
       "      <td>NaN</td>\n",
       "      <td>NaN</td>\n",
       "      <td>NaN</td>\n",
       "      <td>...</td>\n",
       "      <td>Personal</td>\n",
       "      <td>NaN</td>\n",
       "      <td>4.0</td>\n",
       "      <td>0.0</td>\n",
       "      <td>0.0</td>\n",
       "      <td>0.0</td>\n",
       "      <td>UNK</td>\n",
       "      <td>Unknown</td>\n",
       "      <td>Probable Cause</td>\n",
       "      <td>19-09-1996</td>\n",
       "    </tr>\n",
       "    <tr>\n",
       "      <th>2</th>\n",
       "      <td>20061025X01555</td>\n",
       "      <td>Accident</td>\n",
       "      <td>NYC07LA005</td>\n",
       "      <td>1974-08-30</td>\n",
       "      <td>Saltville, VA</td>\n",
       "      <td>United States</td>\n",
       "      <td>36.9222</td>\n",
       "      <td>-81.8781</td>\n",
       "      <td>NaN</td>\n",
       "      <td>NaN</td>\n",
       "      <td>...</td>\n",
       "      <td>Personal</td>\n",
       "      <td>NaN</td>\n",
       "      <td>3.0</td>\n",
       "      <td>NaN</td>\n",
       "      <td>NaN</td>\n",
       "      <td>NaN</td>\n",
       "      <td>IMC</td>\n",
       "      <td>Cruise</td>\n",
       "      <td>Probable Cause</td>\n",
       "      <td>26-02-2007</td>\n",
       "    </tr>\n",
       "    <tr>\n",
       "      <th>3</th>\n",
       "      <td>20001218X45448</td>\n",
       "      <td>Accident</td>\n",
       "      <td>LAX96LA321</td>\n",
       "      <td>1977-06-19</td>\n",
       "      <td>EUREKA, CA</td>\n",
       "      <td>United States</td>\n",
       "      <td>NaN</td>\n",
       "      <td>NaN</td>\n",
       "      <td>NaN</td>\n",
       "      <td>NaN</td>\n",
       "      <td>...</td>\n",
       "      <td>Personal</td>\n",
       "      <td>NaN</td>\n",
       "      <td>2.0</td>\n",
       "      <td>0.0</td>\n",
       "      <td>0.0</td>\n",
       "      <td>0.0</td>\n",
       "      <td>IMC</td>\n",
       "      <td>Cruise</td>\n",
       "      <td>Probable Cause</td>\n",
       "      <td>12-09-2000</td>\n",
       "    </tr>\n",
       "    <tr>\n",
       "      <th>4</th>\n",
       "      <td>20041105X01764</td>\n",
       "      <td>Accident</td>\n",
       "      <td>CHI79FA064</td>\n",
       "      <td>1979-08-02</td>\n",
       "      <td>Canton, OH</td>\n",
       "      <td>United States</td>\n",
       "      <td>NaN</td>\n",
       "      <td>NaN</td>\n",
       "      <td>NaN</td>\n",
       "      <td>NaN</td>\n",
       "      <td>...</td>\n",
       "      <td>Personal</td>\n",
       "      <td>NaN</td>\n",
       "      <td>1.0</td>\n",
       "      <td>2.0</td>\n",
       "      <td>NaN</td>\n",
       "      <td>0.0</td>\n",
       "      <td>VMC</td>\n",
       "      <td>Approach</td>\n",
       "      <td>Probable Cause</td>\n",
       "      <td>16-04-1980</td>\n",
       "    </tr>\n",
       "  </tbody>\n",
       "</table>\n",
       "<p>5 rows × 31 columns</p>\n",
       "</div>"
      ],
      "text/plain": [
       "         Event.Id Investigation.Type Accident.Number  Event.Date  \\\n",
       "0  20001218X45444           Accident      SEA87LA080  1948-10-24   \n",
       "1  20001218X45447           Accident      LAX94LA336  1962-07-19   \n",
       "2  20061025X01555           Accident      NYC07LA005  1974-08-30   \n",
       "3  20001218X45448           Accident      LAX96LA321  1977-06-19   \n",
       "4  20041105X01764           Accident      CHI79FA064  1979-08-02   \n",
       "\n",
       "          Location        Country Latitude Longitude Airport.Code  \\\n",
       "0  MOOSE CREEK, ID  United States      NaN       NaN          NaN   \n",
       "1   BRIDGEPORT, CA  United States      NaN       NaN          NaN   \n",
       "2    Saltville, VA  United States  36.9222  -81.8781          NaN   \n",
       "3       EUREKA, CA  United States      NaN       NaN          NaN   \n",
       "4       Canton, OH  United States      NaN       NaN          NaN   \n",
       "\n",
       "  Airport.Name  ... Purpose.of.flight Air.carrier Total.Fatal.Injuries  \\\n",
       "0          NaN  ...          Personal         NaN                  2.0   \n",
       "1          NaN  ...          Personal         NaN                  4.0   \n",
       "2          NaN  ...          Personal         NaN                  3.0   \n",
       "3          NaN  ...          Personal         NaN                  2.0   \n",
       "4          NaN  ...          Personal         NaN                  1.0   \n",
       "\n",
       "  Total.Serious.Injuries Total.Minor.Injuries Total.Uninjured  \\\n",
       "0                    0.0                  0.0             0.0   \n",
       "1                    0.0                  0.0             0.0   \n",
       "2                    NaN                  NaN             NaN   \n",
       "3                    0.0                  0.0             0.0   \n",
       "4                    2.0                  NaN             0.0   \n",
       "\n",
       "  Weather.Condition  Broad.phase.of.flight   Report.Status Publication.Date  \n",
       "0               UNK                 Cruise  Probable Cause              NaN  \n",
       "1               UNK                Unknown  Probable Cause       19-09-1996  \n",
       "2               IMC                 Cruise  Probable Cause       26-02-2007  \n",
       "3               IMC                 Cruise  Probable Cause       12-09-2000  \n",
       "4               VMC               Approach  Probable Cause       16-04-1980  \n",
       "\n",
       "[5 rows x 31 columns]"
      ]
     },
     "execution_count": 2718,
     "metadata": {},
     "output_type": "execute_result"
    }
   ],
   "source": [
    "#reading the aviation csv file\n",
    "aviation_df = pd.read_csv('AviationData.csv',encoding='latin-1')\n",
    "aviation_df.head()"
   ]
  },
  {
   "cell_type": "code",
   "execution_count": 2719,
   "metadata": {},
   "outputs": [
    {
     "data": {
      "text/plain": [
       "(88889, 31)"
      ]
     },
     "execution_count": 2719,
     "metadata": {},
     "output_type": "execute_result"
    }
   ],
   "source": [
    "aviation_df.shape"
   ]
  },
  {
   "cell_type": "code",
   "execution_count": 2720,
   "metadata": {},
   "outputs": [
    {
     "name": "stdout",
     "output_type": "stream",
     "text": [
      "<class 'pandas.core.frame.DataFrame'>\n",
      "RangeIndex: 88889 entries, 0 to 88888\n",
      "Data columns (total 31 columns):\n",
      " #   Column                  Non-Null Count  Dtype  \n",
      "---  ------                  --------------  -----  \n",
      " 0   Event.Id                88889 non-null  object \n",
      " 1   Investigation.Type      88889 non-null  object \n",
      " 2   Accident.Number         88889 non-null  object \n",
      " 3   Event.Date              88889 non-null  object \n",
      " 4   Location                88837 non-null  object \n",
      " 5   Country                 88663 non-null  object \n",
      " 6   Latitude                34382 non-null  object \n",
      " 7   Longitude               34373 non-null  object \n",
      " 8   Airport.Code            50249 non-null  object \n",
      " 9   Airport.Name            52790 non-null  object \n",
      " 10  Injury.Severity         87889 non-null  object \n",
      " 11  Aircraft.damage         85695 non-null  object \n",
      " 12  Aircraft.Category       32287 non-null  object \n",
      " 13  Registration.Number     87572 non-null  object \n",
      " 14  Make                    88826 non-null  object \n",
      " 15  Model                   88797 non-null  object \n",
      " 16  Amateur.Built           88787 non-null  object \n",
      " 17  Number.of.Engines       82805 non-null  float64\n",
      " 18  Engine.Type             81812 non-null  object \n",
      " 19  FAR.Description         32023 non-null  object \n",
      " 20  Schedule                12582 non-null  object \n",
      " 21  Purpose.of.flight       82697 non-null  object \n",
      " 22  Air.carrier             16648 non-null  object \n",
      " 23  Total.Fatal.Injuries    77488 non-null  float64\n",
      " 24  Total.Serious.Injuries  76379 non-null  float64\n",
      " 25  Total.Minor.Injuries    76956 non-null  float64\n",
      " 26  Total.Uninjured         82977 non-null  float64\n",
      " 27  Weather.Condition       84397 non-null  object \n",
      " 28  Broad.phase.of.flight   61724 non-null  object \n",
      " 29  Report.Status           82508 non-null  object \n",
      " 30  Publication.Date        75118 non-null  object \n",
      "dtypes: float64(5), object(26)\n",
      "memory usage: 21.0+ MB\n"
     ]
    }
   ],
   "source": [
    "#description of data\n",
    "aviation_df.info()"
   ]
  },
  {
   "cell_type": "code",
   "execution_count": 2721,
   "metadata": {},
   "outputs": [
    {
     "data": {
      "text/html": [
       "<div>\n",
       "<style scoped>\n",
       "    .dataframe tbody tr th:only-of-type {\n",
       "        vertical-align: middle;\n",
       "    }\n",
       "\n",
       "    .dataframe tbody tr th {\n",
       "        vertical-align: top;\n",
       "    }\n",
       "\n",
       "    .dataframe thead th {\n",
       "        text-align: right;\n",
       "    }\n",
       "</style>\n",
       "<table border=\"1\" class=\"dataframe\">\n",
       "  <thead>\n",
       "    <tr style=\"text-align: right;\">\n",
       "      <th></th>\n",
       "      <th>Number.of.Engines</th>\n",
       "      <th>Total.Fatal.Injuries</th>\n",
       "      <th>Total.Serious.Injuries</th>\n",
       "      <th>Total.Minor.Injuries</th>\n",
       "      <th>Total.Uninjured</th>\n",
       "    </tr>\n",
       "  </thead>\n",
       "  <tbody>\n",
       "    <tr>\n",
       "      <th>count</th>\n",
       "      <td>82805.000000</td>\n",
       "      <td>77488.000000</td>\n",
       "      <td>76379.000000</td>\n",
       "      <td>76956.000000</td>\n",
       "      <td>82977.000000</td>\n",
       "    </tr>\n",
       "    <tr>\n",
       "      <th>mean</th>\n",
       "      <td>1.146585</td>\n",
       "      <td>0.647855</td>\n",
       "      <td>0.279881</td>\n",
       "      <td>0.357061</td>\n",
       "      <td>5.325440</td>\n",
       "    </tr>\n",
       "    <tr>\n",
       "      <th>std</th>\n",
       "      <td>0.446510</td>\n",
       "      <td>5.485960</td>\n",
       "      <td>1.544084</td>\n",
       "      <td>2.235625</td>\n",
       "      <td>27.913634</td>\n",
       "    </tr>\n",
       "    <tr>\n",
       "      <th>min</th>\n",
       "      <td>0.000000</td>\n",
       "      <td>0.000000</td>\n",
       "      <td>0.000000</td>\n",
       "      <td>0.000000</td>\n",
       "      <td>0.000000</td>\n",
       "    </tr>\n",
       "    <tr>\n",
       "      <th>25%</th>\n",
       "      <td>1.000000</td>\n",
       "      <td>0.000000</td>\n",
       "      <td>0.000000</td>\n",
       "      <td>0.000000</td>\n",
       "      <td>0.000000</td>\n",
       "    </tr>\n",
       "    <tr>\n",
       "      <th>50%</th>\n",
       "      <td>1.000000</td>\n",
       "      <td>0.000000</td>\n",
       "      <td>0.000000</td>\n",
       "      <td>0.000000</td>\n",
       "      <td>1.000000</td>\n",
       "    </tr>\n",
       "    <tr>\n",
       "      <th>75%</th>\n",
       "      <td>1.000000</td>\n",
       "      <td>0.000000</td>\n",
       "      <td>0.000000</td>\n",
       "      <td>0.000000</td>\n",
       "      <td>2.000000</td>\n",
       "    </tr>\n",
       "    <tr>\n",
       "      <th>max</th>\n",
       "      <td>8.000000</td>\n",
       "      <td>349.000000</td>\n",
       "      <td>161.000000</td>\n",
       "      <td>380.000000</td>\n",
       "      <td>699.000000</td>\n",
       "    </tr>\n",
       "  </tbody>\n",
       "</table>\n",
       "</div>"
      ],
      "text/plain": [
       "       Number.of.Engines  Total.Fatal.Injuries  Total.Serious.Injuries  \\\n",
       "count       82805.000000          77488.000000            76379.000000   \n",
       "mean            1.146585              0.647855                0.279881   \n",
       "std             0.446510              5.485960                1.544084   \n",
       "min             0.000000              0.000000                0.000000   \n",
       "25%             1.000000              0.000000                0.000000   \n",
       "50%             1.000000              0.000000                0.000000   \n",
       "75%             1.000000              0.000000                0.000000   \n",
       "max             8.000000            349.000000              161.000000   \n",
       "\n",
       "       Total.Minor.Injuries  Total.Uninjured  \n",
       "count          76956.000000     82977.000000  \n",
       "mean               0.357061         5.325440  \n",
       "std                2.235625        27.913634  \n",
       "min                0.000000         0.000000  \n",
       "25%                0.000000         0.000000  \n",
       "50%                0.000000         1.000000  \n",
       "75%                0.000000         2.000000  \n",
       "max              380.000000       699.000000  "
      ]
     },
     "execution_count": 2721,
     "metadata": {},
     "output_type": "execute_result"
    }
   ],
   "source": [
    "#.describe to determine statistical nature of data\n",
    "aviation_df.describe()"
   ]
  },
  {
   "cell_type": "code",
   "execution_count": 2722,
   "metadata": {},
   "outputs": [
    {
     "data": {
      "text/plain": [
       "Event.Id                      0\n",
       "Investigation.Type            0\n",
       "Accident.Number               0\n",
       "Event.Date                    0\n",
       "Location                     52\n",
       "Country                     226\n",
       "Latitude                  54507\n",
       "Longitude                 54516\n",
       "Airport.Code              38640\n",
       "Airport.Name              36099\n",
       "Injury.Severity            1000\n",
       "Aircraft.damage            3194\n",
       "Aircraft.Category         56602\n",
       "Registration.Number        1317\n",
       "Make                         63\n",
       "Model                        92\n",
       "Amateur.Built               102\n",
       "Number.of.Engines          6084\n",
       "Engine.Type                7077\n",
       "FAR.Description           56866\n",
       "Schedule                  76307\n",
       "Purpose.of.flight          6192\n",
       "Air.carrier               72241\n",
       "Total.Fatal.Injuries      11401\n",
       "Total.Serious.Injuries    12510\n",
       "Total.Minor.Injuries      11933\n",
       "Total.Uninjured            5912\n",
       "Weather.Condition          4492\n",
       "Broad.phase.of.flight     27165\n",
       "Report.Status              6381\n",
       "Publication.Date          13771\n",
       "dtype: int64"
      ]
     },
     "execution_count": 2722,
     "metadata": {},
     "output_type": "execute_result"
    }
   ],
   "source": [
    "#to determine missing values\n",
    "aviation_df.isnull().sum()"
   ]
  },
  {
   "cell_type": "markdown",
   "metadata": {},
   "source": [
    "The isnull method above helps determine null values in all the columns.The sum gives the exact number of null values per column.The results above shpw very high null figures in the Air carrier column.Other columns also show null value counts greater than half the number of entries of the data set.These include the Schedule,Aircraft category,latitude,longitude,Aircraft category.The next step is to start cleaning the dataset."
   ]
  },
  {
   "cell_type": "markdown",
   "metadata": {},
   "source": [
    "DATA CLEANING"
   ]
  },
  {
   "cell_type": "markdown",
   "metadata": {},
   "source": [
    "1.HANDLING MISSING VALUES"
   ]
  },
  {
   "cell_type": "markdown",
   "metadata": {},
   "source": [
    "A)DROPPING ROWS"
   ]
  },
  {
   "cell_type": "code",
   "execution_count": 2723,
   "metadata": {},
   "outputs": [
    {
     "data": {
      "text/plain": [
       "array([nan, 'Airplane', 'Helicopter', 'Glider', 'Balloon', 'Gyrocraft',\n",
       "       'Ultralight', 'Unknown', 'Blimp', 'Powered-Lift', 'Weight-Shift',\n",
       "       'Powered Parachute', 'Rocket', 'WSFT', 'UNK', 'ULTR'], dtype=object)"
      ]
     },
     "execution_count": 2723,
     "metadata": {},
     "output_type": "execute_result"
    }
   ],
   "source": [
    "#Handling missing values in the aircraft column.\n",
    "# .unique()helps determine unique values in the column\n",
    "aviation_df['Aircraft.Category'].unique()"
   ]
  },
  {
   "cell_type": "code",
   "execution_count": 2724,
   "metadata": {},
   "outputs": [
    {
     "data": {
      "text/plain": [
       "Airplane             27617\n",
       "Helicopter            3440\n",
       "Glider                 508\n",
       "Balloon                231\n",
       "Gyrocraft              173\n",
       "Weight-Shift           161\n",
       "Powered Parachute       91\n",
       "Ultralight              30\n",
       "Unknown                 14\n",
       "WSFT                     9\n",
       "Powered-Lift             5\n",
       "Blimp                    4\n",
       "UNK                      2\n",
       "ULTR                     1\n",
       "Rocket                   1\n",
       "Name: Aircraft.Category, dtype: int64"
      ]
     },
     "execution_count": 2724,
     "metadata": {},
     "output_type": "execute_result"
    }
   ],
   "source": [
    "aviation_df['Aircraft.Category'].value_counts()"
   ]
  },
  {
   "cell_type": "markdown",
   "metadata": {},
   "source": [
    "The Aircraft category column is the main column needed to give insight to the problem under consideration.The missing values can not be imputed as they are unique objects, and using other values will compromise the results of the analysis.This leaves dropping the missing rows as the only option."
   ]
  },
  {
   "cell_type": "code",
   "execution_count": 2725,
   "metadata": {},
   "outputs": [],
   "source": [
    "#dropping missing values of the Aircraft category column\n",
    "aviation_df.dropna(subset=['Aircraft.Category'],inplace=True)"
   ]
  },
  {
   "cell_type": "code",
   "execution_count": 2726,
   "metadata": {},
   "outputs": [
    {
     "data": {
      "text/plain": [
       "(32287, 31)"
      ]
     },
     "execution_count": 2726,
     "metadata": {},
     "output_type": "execute_result"
    }
   ],
   "source": [
    "#The number of rows and columns after dropping the null values in Aircraft category column\n",
    "aviation_df.shape"
   ]
  },
  {
   "cell_type": "code",
   "execution_count": 2727,
   "metadata": {},
   "outputs": [
    {
     "data": {
      "text/plain": [
       "Event.Id                      0\n",
       "Investigation.Type            0\n",
       "Accident.Number               0\n",
       "Event.Date                    0\n",
       "Location                      9\n",
       "Country                      12\n",
       "Latitude                   6320\n",
       "Longitude                  6330\n",
       "Airport.Code              12669\n",
       "Airport.Name              12108\n",
       "Injury.Severity             884\n",
       "Aircraft.damage            1458\n",
       "Aircraft.Category             0\n",
       "Registration.Number         273\n",
       "Make                         12\n",
       "Model                        33\n",
       "Amateur.Built                19\n",
       "Number.of.Engines          3457\n",
       "Engine.Type                5540\n",
       "FAR.Description             608\n",
       "Schedule                  28799\n",
       "Purpose.of.flight          4448\n",
       "Air.carrier               18662\n",
       "Total.Fatal.Injuries       3711\n",
       "Total.Serious.Injuries     3720\n",
       "Total.Minor.Injuries       3332\n",
       "Total.Uninjured            1080\n",
       "Weather.Condition          3663\n",
       "Broad.phase.of.flight     24909\n",
       "Report.Status              5959\n",
       "Publication.Date           1191\n",
       "dtype: int64"
      ]
     },
     "execution_count": 2727,
     "metadata": {},
     "output_type": "execute_result"
    }
   ],
   "source": [
    "#To determine remaining missing values after dropping missing rows in Aircraft category column\n",
    "aviation_df.isnull().sum()"
   ]
  },
  {
   "cell_type": "code",
   "execution_count": 2728,
   "metadata": {},
   "outputs": [
    {
     "data": {
      "image/png": "[encoded data removed]",
      "text/plain": [
       "<Figure size 432x576 with 1 Axes>"
      ]
     },
     "metadata": {
      "needs_background": "light"
     },
     "output_type": "display_data"
    }
   ],
   "source": [
    "#To visualize the aircraft category data set\n",
    "\n",
    "fig,ax = plt.subplots(figsize=(6,8))\n",
    "aviation_df_air_category_values = aviation_df['Aircraft.Category'].value_counts()\n",
    "ax.barh(\n",
    "y=aviation_df_air_category_values.index,\n",
    "width=aviation_df_air_category_values.values\n",
    "\n",
    ")\n",
    "ax.set_title('Distribution of Aircraft categories');\n",
    "ax.set_xlabel('count');"
   ]
  },
  {
   "cell_type": "markdown",
   "metadata": {},
   "source": [
    "The bar graph above shows the distribution of the various aircraft types. Airplanes are the most common,followed from a far by Helicopters."
   ]
  },
  {
   "cell_type": "code",
   "execution_count": 2729,
   "metadata": {},
   "outputs": [
    {
     "data": {
      "text/plain": [
       "array(['Air Canada', nan, 'Rocky Mountain Helicopters, In', ...,\n",
       "       'REACH AIR MEDICAL SERVICES LLC', 'SKY WEST AVIATION INC TRUSTEE',\n",
       "       'GERBER RICHARD E'], dtype=object)"
      ]
     },
     "execution_count": 2729,
     "metadata": {},
     "output_type": "execute_result"
    }
   ],
   "source": [
    "#Handling missing values in the air carrier column.\n",
    "# .unique()helps determine unique values in the column\n",
    "aviation_df['Air.carrier'].unique()"
   ]
  },
  {
   "cell_type": "code",
   "execution_count": 2730,
   "metadata": {},
   "outputs": [
    {
     "data": {
      "text/plain": [
       "Pilot                      257\n",
       "American Airlines           47\n",
       "United Airlines             43\n",
       "Delta Air Lines             42\n",
       "SOUTHWEST AIRLINES CO       41\n",
       "DELTA AIR LINES INC         32\n",
       "ON FILE                     27\n",
       "AMERICAN AIRLINES INC       27\n",
       "Private Individual          24\n",
       "Southwest Airlines          21\n",
       "Ryanair                     21\n",
       "UNITED AIR LINES INC        20\n",
       "AIR METHODS CORP            17\n",
       "CIVIL AIR PATROL INC        16\n",
       "SKYWEST AIRLINES INC        15\n",
       "Private                     15\n",
       "Air Canada                  14\n",
       "Unknown                     13\n",
       "US AIRWAYS INC              12\n",
       "Air Methods Corporation     12\n",
       "Name: Air.carrier, dtype: int64"
      ]
     },
     "execution_count": 2730,
     "metadata": {},
     "output_type": "execute_result"
    }
   ],
   "source": [
    "aviation_df['Air.carrier'].value_counts().head(20)"
   ]
  },
  {
   "cell_type": "code",
   "execution_count": 2731,
   "metadata": {},
   "outputs": [],
   "source": [
    "#dropping missing values of the Air carrier column\n",
    "aviation_df.dropna(subset=['Air.carrier'],inplace=True)"
   ]
  },
  {
   "cell_type": "markdown",
   "metadata": {},
   "source": [
    "The Air carrier column is another  column that gives additonal insight to the problem under consideration.The missing values can not be imputed as they are unique objects, and using other values will compromise the results of the analysis.This leaves dropping the missing rows as the only option."
   ]
  },
  {
   "cell_type": "code",
   "execution_count": 2732,
   "metadata": {},
   "outputs": [
    {
     "data": {
      "text/plain": [
       "array(['Air Canada', 'Rocky Mountain Helicopters, In', 'Lang Air Service',\n",
       "       ..., 'REACH AIR MEDICAL SERVICES LLC',\n",
       "       'SKY WEST AVIATION INC TRUSTEE', 'GERBER RICHARD E'], dtype=object)"
      ]
     },
     "execution_count": 2732,
     "metadata": {},
     "output_type": "execute_result"
    }
   ],
   "source": [
    "aviation_df['Air.carrier'].unique()"
   ]
  },
  {
   "cell_type": "code",
   "execution_count": 2733,
   "metadata": {},
   "outputs": [
    {
     "data": {
      "text/plain": [
       "Pilot                      257\n",
       "American Airlines           47\n",
       "United Airlines             43\n",
       "Delta Air Lines             42\n",
       "SOUTHWEST AIRLINES CO       41\n",
       "DELTA AIR LINES INC         32\n",
       "AMERICAN AIRLINES INC       27\n",
       "ON FILE                     27\n",
       "Private Individual          24\n",
       "Ryanair                     21\n",
       "Southwest Airlines          21\n",
       "UNITED AIR LINES INC        20\n",
       "AIR METHODS CORP            17\n",
       "CIVIL AIR PATROL INC        16\n",
       "SKYWEST AIRLINES INC        15\n",
       "Private                     15\n",
       "Air Canada                  14\n",
       "Unknown                     13\n",
       "Air Methods Corporation     12\n",
       "US AIRWAYS INC              12\n",
       "Name: Air.carrier, dtype: int64"
      ]
     },
     "execution_count": 2733,
     "metadata": {},
     "output_type": "execute_result"
    }
   ],
   "source": [
    "aviation_df['Air.carrier'].value_counts().head(20)"
   ]
  },
  {
   "cell_type": "code",
   "execution_count": 2734,
   "metadata": {},
   "outputs": [
    {
     "data": {
      "text/plain": [
       "(13625, 31)"
      ]
     },
     "execution_count": 2734,
     "metadata": {},
     "output_type": "execute_result"
    }
   ],
   "source": [
    "#The number of rows and columns after dropping the null values in Air carrier column\n",
    "aviation_df.shape"
   ]
  },
  {
   "cell_type": "code",
   "execution_count": 2735,
   "metadata": {},
   "outputs": [
    {
     "name": "stderr",
     "output_type": "stream",
     "text": [
      "c:\\Users\\User\\anaconda3\\envs\\learn-env\\lib\\site-packages\\IPython\\core\\displayhook.py:275: UserWarning: Output cache limit (currently 1000 entries) hit.\n",
      "Flushing oldest 200 entries.\n",
      "  warn('Output cache limit (currently {sz} entries) hit.\\n'\n"
     ]
    },
    {
     "data": {
      "text/plain": [
       "Event.Id                      0\n",
       "Investigation.Type            0\n",
       "Accident.Number               0\n",
       "Event.Date                    0\n",
       "Location                      0\n",
       "Country                       1\n",
       "Latitude                   1266\n",
       "Longitude                  1265\n",
       "Airport.Code               5043\n",
       "Airport.Name               4897\n",
       "Injury.Severity             458\n",
       "Aircraft.damage             912\n",
       "Aircraft.Category             0\n",
       "Registration.Number           6\n",
       "Make                          4\n",
       "Model                        10\n",
       "Amateur.Built                 0\n",
       "Number.of.Engines          1263\n",
       "Engine.Type                2437\n",
       "FAR.Description             171\n",
       "Schedule                  11106\n",
       "Purpose.of.flight          2607\n",
       "Air.carrier                   0\n",
       "Total.Fatal.Injuries        102\n",
       "Total.Serious.Injuries       99\n",
       "Total.Minor.Injuries        105\n",
       "Total.Uninjured              18\n",
       "Weather.Condition          1611\n",
       "Broad.phase.of.flight     13273\n",
       "Report.Status              2733\n",
       "Publication.Date            353\n",
       "dtype: int64"
      ]
     },
     "execution_count": 2735,
     "metadata": {},
     "output_type": "execute_result"
    }
   ],
   "source": [
    "#To determine remaining missing values after dropping missing rows in Air carrier column\n",
    "aviation_df.isnull().sum()"
   ]
  },
  {
   "cell_type": "markdown",
   "metadata": {},
   "source": [
    "The other main columns are the aircraft damage,weather condition,aircraft category,FAR Description and the engine type columns."
   ]
  },
  {
   "cell_type": "code",
   "execution_count": 2736,
   "metadata": {},
   "outputs": [
    {
     "data": {
      "text/plain": [
       "array(['Substantial', 'Destroyed', nan, 'Minor', 'Unknown'], dtype=object)"
      ]
     },
     "execution_count": 2736,
     "metadata": {},
     "output_type": "execute_result"
    }
   ],
   "source": [
    "aviation_df['Aircraft.damage'].unique()"
   ]
  },
  {
   "cell_type": "code",
   "execution_count": 2737,
   "metadata": {},
   "outputs": [
    {
     "data": {
      "text/plain": [
       "Substantial    10675\n",
       "Destroyed       1323\n",
       "Minor            675\n",
       "Unknown           40\n",
       "Name: Aircraft.damage, dtype: int64"
      ]
     },
     "execution_count": 2737,
     "metadata": {},
     "output_type": "execute_result"
    }
   ],
   "source": [
    "#checking the contents and quantity of values in the aircraft damage column\n",
    "aviation_df['Aircraft.damage'].value_counts()"
   ]
  },
  {
   "cell_type": "code",
   "execution_count": 2738,
   "metadata": {},
   "outputs": [
    {
     "data": {
      "text/plain": [
       "Event.Id                      0\n",
       "Investigation.Type            0\n",
       "Accident.Number               0\n",
       "Event.Date                    0\n",
       "Location                      0\n",
       "Country                       1\n",
       "Latitude                    873\n",
       "Longitude                   873\n",
       "Airport.Code               4479\n",
       "Airport.Name               4343\n",
       "Injury.Severity             209\n",
       "Aircraft.damage               0\n",
       "Aircraft.Category             0\n",
       "Registration.Number           1\n",
       "Make                          3\n",
       "Model                         9\n",
       "Amateur.Built                 0\n",
       "Number.of.Engines           977\n",
       "Engine.Type                2006\n",
       "FAR.Description             108\n",
       "Schedule                  10811\n",
       "Purpose.of.flight          1863\n",
       "Air.carrier                   0\n",
       "Total.Fatal.Injuries         89\n",
       "Total.Serious.Injuries       95\n",
       "Total.Minor.Injuries         94\n",
       "Total.Uninjured              17\n",
       "Weather.Condition          1159\n",
       "Broad.phase.of.flight     12402\n",
       "Report.Status              2263\n",
       "Publication.Date            258\n",
       "dtype: int64"
      ]
     },
     "execution_count": 2738,
     "metadata": {},
     "output_type": "execute_result"
    }
   ],
   "source": [
    "#dropping missing values in the aircraft damage column, then checking remaining missing values in other columns.\n",
    "aviation_df.dropna(subset=['Aircraft.damage'],inplace=True)\n",
    "aviation_df.isnull().sum()\n"
   ]
  },
  {
   "cell_type": "code",
   "execution_count": 2739,
   "metadata": {},
   "outputs": [
    {
     "data": {
      "text/plain": [
       "(12713, 31)"
      ]
     },
     "execution_count": 2739,
     "metadata": {},
     "output_type": "execute_result"
    }
   ],
   "source": [
    "#checking the number of rows and columns after dropping the missing values in Aircraft Damage column\n",
    "aviation_df.shape"
   ]
  },
  {
   "cell_type": "code",
   "execution_count": 2740,
   "metadata": {},
   "outputs": [
    {
     "data": {
      "text/plain": [
       "array(['VMC', 'IMC', 'UNK', nan, 'Unk'], dtype=object)"
      ]
     },
     "execution_count": 2740,
     "metadata": {},
     "output_type": "execute_result"
    }
   ],
   "source": [
    "#checking unique values in the weather condition column\n",
    "aviation_df['Weather.Condition'].unique()"
   ]
  },
  {
   "cell_type": "code",
   "execution_count": 2741,
   "metadata": {},
   "outputs": [
    {
     "data": {
      "text/plain": [
       "Event.Id                      0\n",
       "Investigation.Type            0\n",
       "Accident.Number               0\n",
       "Event.Date                    0\n",
       "Location                      0\n",
       "Country                       1\n",
       "Latitude                    342\n",
       "Longitude                   342\n",
       "Airport.Code               3713\n",
       "Airport.Name               3560\n",
       "Injury.Severity              42\n",
       "Aircraft.damage               0\n",
       "Aircraft.Category             0\n",
       "Registration.Number           0\n",
       "Make                          3\n",
       "Model                         4\n",
       "Amateur.Built                 0\n",
       "Number.of.Engines           470\n",
       "Engine.Type                1189\n",
       "FAR.Description              15\n",
       "Schedule                  10040\n",
       "Purpose.of.flight          1119\n",
       "Air.carrier                   0\n",
       "Total.Fatal.Injuries         88\n",
       "Total.Serious.Injuries       93\n",
       "Total.Minor.Injuries         92\n",
       "Total.Uninjured              15\n",
       "Weather.Condition             0\n",
       "Broad.phase.of.flight     11245\n",
       "Report.Status              1220\n",
       "Publication.Date             85\n",
       "dtype: int64"
      ]
     },
     "execution_count": 2741,
     "metadata": {},
     "output_type": "execute_result"
    }
   ],
   "source": [
    "#dropping missing values in the weather condition column, then checking remaining missing values in other columns\n",
    "aviation_df.dropna(subset=['Weather.Condition'],inplace=True)\n",
    "aviation_df.isnull().sum()"
   ]
  },
  {
   "cell_type": "code",
   "execution_count": 2742,
   "metadata": {},
   "outputs": [
    {
     "data": {
      "text/plain": [
       "(11554, 31)"
      ]
     },
     "execution_count": 2742,
     "metadata": {},
     "output_type": "execute_result"
    }
   ],
   "source": [
    "#checking the number of rows and columns after dropping the missing values in weather condition column\n",
    "aviation_df.shape"
   ]
  },
  {
   "cell_type": "code",
   "execution_count": 2743,
   "metadata": {},
   "outputs": [
    {
     "data": {
      "text/plain": [
       "array(['Turbo Fan', 'Turbo Shaft', 'Reciprocating', 'Turbo Prop',\n",
       "       'Turbo Jet', nan, 'Unknown', 'Electric', 'None', 'Hybrid Rocket',\n",
       "       'Geared Turbofan', 'LR', 'NONE', 'UNK'], dtype=object)"
      ]
     },
     "execution_count": 2743,
     "metadata": {},
     "output_type": "execute_result"
    }
   ],
   "source": [
    "#checking unique values in the engine type column\n",
    "aviation_df['Engine.Type'].unique()"
   ]
  },
  {
   "cell_type": "code",
   "execution_count": 2744,
   "metadata": {},
   "outputs": [
    {
     "data": {
      "text/plain": [
       "Event.Id                      0\n",
       "Investigation.Type            0\n",
       "Accident.Number               0\n",
       "Event.Date                    0\n",
       "Location                      0\n",
       "Country                       1\n",
       "Latitude                    282\n",
       "Longitude                   282\n",
       "Airport.Code               3224\n",
       "Airport.Name               3049\n",
       "Injury.Severity              25\n",
       "Aircraft.damage               0\n",
       "Aircraft.Category             0\n",
       "Registration.Number           0\n",
       "Make                          1\n",
       "Model                         3\n",
       "Amateur.Built                 0\n",
       "Number.of.Engines           217\n",
       "Engine.Type                   0\n",
       "FAR.Description               4\n",
       "Schedule                   9095\n",
       "Purpose.of.flight           954\n",
       "Air.carrier                   0\n",
       "Total.Fatal.Injuries         85\n",
       "Total.Serious.Injuries       90\n",
       "Total.Minor.Injuries         89\n",
       "Total.Uninjured              15\n",
       "Weather.Condition             0\n",
       "Broad.phase.of.flight     10059\n",
       "Report.Status               350\n",
       "Publication.Date              2\n",
       "dtype: int64"
      ]
     },
     "execution_count": 2744,
     "metadata": {},
     "output_type": "execute_result"
    }
   ],
   "source": [
    "#dropping missing values in the Engine type column, then checking remaining missing values in other columns\n",
    "aviation_df.dropna(subset=['Engine.Type'],inplace=True)\n",
    "aviation_df.isnull().sum()"
   ]
  },
  {
   "cell_type": "code",
   "execution_count": 2745,
   "metadata": {},
   "outputs": [
    {
     "data": {
      "text/plain": [
       "(10365, 31)"
      ]
     },
     "execution_count": 2745,
     "metadata": {},
     "output_type": "execute_result"
    }
   ],
   "source": [
    "#checking the number of rows and columns after dropping the missing values in engine type column\n",
    "aviation_df.shape"
   ]
  },
  {
   "cell_type": "code",
   "execution_count": 2746,
   "metadata": {},
   "outputs": [
    {
     "data": {
      "text/plain": [
       "array(['Part 129: Foreign', 'Part 135: Air Taxi & Commuter',\n",
       "       'Part 121: Air Carrier', '091', '135', '137', '121', 'NUSC', '133',\n",
       "       '091K', 'NUSN', '129', 'PUBU', 'UNK', '125', nan, '437', '103'],\n",
       "      dtype=object)"
      ]
     },
     "execution_count": 2746,
     "metadata": {},
     "output_type": "execute_result"
    }
   ],
   "source": [
    "#checking unique values in the FAR Description column\n",
    "aviation_df['FAR.Description'].unique()"
   ]
  },
  {
   "cell_type": "code",
   "execution_count": 2747,
   "metadata": {},
   "outputs": [
    {
     "data": {
      "text/plain": [
       "Event.Id                      0\n",
       "Investigation.Type            0\n",
       "Accident.Number               0\n",
       "Event.Date                    0\n",
       "Location                      0\n",
       "Country                       1\n",
       "Latitude                    281\n",
       "Longitude                   281\n",
       "Airport.Code               3223\n",
       "Airport.Name               3048\n",
       "Injury.Severity              25\n",
       "Aircraft.damage               0\n",
       "Aircraft.Category             0\n",
       "Registration.Number           0\n",
       "Make                          1\n",
       "Model                         3\n",
       "Amateur.Built                 0\n",
       "Number.of.Engines           217\n",
       "Engine.Type                   0\n",
       "FAR.Description               0\n",
       "Schedule                   9093\n",
       "Purpose.of.flight           950\n",
       "Air.carrier                   0\n",
       "Total.Fatal.Injuries         85\n",
       "Total.Serious.Injuries       90\n",
       "Total.Minor.Injuries         89\n",
       "Total.Uninjured              15\n",
       "Weather.Condition             0\n",
       "Broad.phase.of.flight     10055\n",
       "Report.Status               347\n",
       "Publication.Date              2\n",
       "dtype: int64"
      ]
     },
     "execution_count": 2747,
     "metadata": {},
     "output_type": "execute_result"
    }
   ],
   "source": [
    "#dropping missing values in the FAR Description column, then checking remaining missing values in other columns\n",
    "aviation_df.dropna(subset=['FAR.Description'],inplace=True)\n",
    "aviation_df.isnull().sum()"
   ]
  },
  {
   "cell_type": "code",
   "execution_count": 2748,
   "metadata": {},
   "outputs": [
    {
     "data": {
      "text/plain": [
       "(10361, 31)"
      ]
     },
     "execution_count": 2748,
     "metadata": {},
     "output_type": "execute_result"
    }
   ],
   "source": [
    "#checking the number of rows and columns after dropping the missing values in FAR Description column\n",
    "aviation_df.shape"
   ]
  },
  {
   "cell_type": "markdown",
   "metadata": {},
   "source": [
    "On dropping the six columns' missing values,Aircraft category,Air carrier,weather condition,Aircraft damage,Engine type and FAR Description,there was a drop in the number of rows in the data set from 88889 rows to 10361. The above could not be avoided as there are already 'unknown' values within the columns.Imputing any values would compromise the integrity of the outcome of the analysis."
   ]
  },
  {
   "cell_type": "code",
   "execution_count": 2749,
   "metadata": {},
   "outputs": [],
   "source": [
    "# dropping the below rows as they cannot be imputed\n",
    "aviation_df.dropna(subset=['Make','Model','Registration.Number','Country','Location','Amateur.Built','Report.Status'],inplace=True)"
   ]
  },
  {
   "cell_type": "code",
   "execution_count": 2750,
   "metadata": {},
   "outputs": [
    {
     "data": {
      "text/plain": [
       "Event.Id                     0\n",
       "Investigation.Type           0\n",
       "Accident.Number              0\n",
       "Event.Date                   0\n",
       "Location                     0\n",
       "Country                      0\n",
       "Latitude                   249\n",
       "Longitude                  249\n",
       "Airport.Code              3042\n",
       "Airport.Name              2879\n",
       "Injury.Severity             22\n",
       "Aircraft.damage              0\n",
       "Aircraft.Category            0\n",
       "Registration.Number          0\n",
       "Make                         0\n",
       "Model                        0\n",
       "Amateur.Built                0\n",
       "Number.of.Engines          165\n",
       "Engine.Type                  0\n",
       "FAR.Description              0\n",
       "Schedule                  8803\n",
       "Purpose.of.flight          866\n",
       "Air.carrier                  0\n",
       "Total.Fatal.Injuries        84\n",
       "Total.Serious.Injuries      89\n",
       "Total.Minor.Injuries        88\n",
       "Total.Uninjured             15\n",
       "Weather.Condition            0\n",
       "Broad.phase.of.flight     9707\n",
       "Report.Status                0\n",
       "Publication.Date             0\n",
       "dtype: int64"
      ]
     },
     "execution_count": 2750,
     "metadata": {},
     "output_type": "execute_result"
    }
   ],
   "source": [
    "aviation_df.isnull().sum()"
   ]
  },
  {
   "cell_type": "code",
   "execution_count": 2751,
   "metadata": {},
   "outputs": [
    {
     "data": {
      "text/plain": [
       "(10011, 31)"
      ]
     },
     "execution_count": 2751,
     "metadata": {},
     "output_type": "execute_result"
    }
   ],
   "source": [
    "aviation_df.shape"
   ]
  },
  {
   "cell_type": "markdown",
   "metadata": {},
   "source": []
  },
  {
   "cell_type": "markdown",
   "metadata": {},
   "source": [
    "B)DROPPING COLUMNS"
   ]
  },
  {
   "cell_type": "markdown",
   "metadata": {},
   "source": [
    "The above result shows the missing values in the other remaining columns after some rows have been dropped.Some columns are not significant in the analysis of the problem at hand, hence they can be dropped.These include the Airport code,Airport Name and Schedule columns."
   ]
  },
  {
   "cell_type": "code",
   "execution_count": 2752,
   "metadata": {},
   "outputs": [],
   "source": [
    "#dropping columns Airport code,Airport name and Schedule\n",
    "aviation_df.drop (columns=['Airport.Code','Airport.Name','Schedule'],inplace = True)"
   ]
  },
  {
   "cell_type": "code",
   "execution_count": 2753,
   "metadata": {},
   "outputs": [
    {
     "data": {
      "text/plain": [
       "(10011, 28)"
      ]
     },
     "execution_count": 2753,
     "metadata": {},
     "output_type": "execute_result"
    }
   ],
   "source": [
    "# No. of rows and columns after dropping Airport code,Airport name and Schedule\n",
    "aviation_df.shape"
   ]
  },
  {
   "cell_type": "code",
   "execution_count": 2754,
   "metadata": {},
   "outputs": [
    {
     "data": {
      "text/plain": [
       "Event.Id                     0\n",
       "Investigation.Type           0\n",
       "Accident.Number              0\n",
       "Event.Date                   0\n",
       "Location                     0\n",
       "Country                      0\n",
       "Latitude                   249\n",
       "Longitude                  249\n",
       "Injury.Severity             22\n",
       "Aircraft.damage              0\n",
       "Aircraft.Category            0\n",
       "Registration.Number          0\n",
       "Make                         0\n",
       "Model                        0\n",
       "Amateur.Built                0\n",
       "Number.of.Engines          165\n",
       "Engine.Type                  0\n",
       "FAR.Description              0\n",
       "Purpose.of.flight          866\n",
       "Air.carrier                  0\n",
       "Total.Fatal.Injuries        84\n",
       "Total.Serious.Injuries      89\n",
       "Total.Minor.Injuries        88\n",
       "Total.Uninjured             15\n",
       "Weather.Condition            0\n",
       "Broad.phase.of.flight     9707\n",
       "Report.Status                0\n",
       "Publication.Date             0\n",
       "dtype: int64"
      ]
     },
     "execution_count": 2754,
     "metadata": {},
     "output_type": "execute_result"
    }
   ],
   "source": [
    "aviation_df.isnull().sum()"
   ]
  },
  {
   "cell_type": "code",
   "execution_count": 2755,
   "metadata": {},
   "outputs": [
    {
     "data": {
      "text/plain": [
       "array([nan, 'Unknown', 'Business', 'Personal', 'Instructional',\n",
       "       'Positioning', 'Aerial Application', 'Other Work Use',\n",
       "       'Glider Tow', 'Executive/corporate', 'Flight Test',\n",
       "       'External Load', 'Public Aircraft', 'Aerial Observation',\n",
       "       'Banner Tow', 'Skydiving', 'Public Aircraft - Local',\n",
       "       'Air Race show', 'Ferry', 'Public Aircraft - Federal',\n",
       "       'Firefighting', 'Public Aircraft - State', 'Air Drop', 'PUBL',\n",
       "       'PUBS'], dtype=object)"
      ]
     },
     "execution_count": 2755,
     "metadata": {},
     "output_type": "execute_result"
    }
   ],
   "source": [
    "#checking unique values in the purpose of flight column\n",
    "aviation_df['Purpose.of.flight'].unique()"
   ]
  },
  {
   "cell_type": "code",
   "execution_count": 2756,
   "metadata": {},
   "outputs": [
    {
     "data": {
      "text/plain": [
       "array(['Climb', 'Approach', 'Cruise', 'Taxi', 'Takeoff', 'Landing',\n",
       "       'Maneuvering', 'Standing', 'Descent', 'Go-around', 'Other',\n",
       "       'Unknown', nan], dtype=object)"
      ]
     },
     "execution_count": 2756,
     "metadata": {},
     "output_type": "execute_result"
    }
   ],
   "source": [
    "#checking unique values in the broad phase of flight column\n",
    "aviation_df['Broad.phase.of.flight'].unique()"
   ]
  },
  {
   "cell_type": "markdown",
   "metadata": {},
   "source": [
    "From the two cells above,the unique values shown do not have a great impact on the analysis/ problem at hand.The phase and purpose of flight are not determining factors when analysing accidents with an aim of buying an airplane. Hence,the two columns can be dropped.The total uninjured column does not offer much insight in the current problem,hence it can also be dropped."
   ]
  },
  {
   "cell_type": "code",
   "execution_count": 2757,
   "metadata": {},
   "outputs": [],
   "source": [
    "#Dropping phase and purpose of flight columns.\n",
    "aviation_df.drop (columns=['Broad.phase.of.flight','Purpose.of.flight','Total.Uninjured'],inplace = True)"
   ]
  },
  {
   "cell_type": "code",
   "execution_count": 2758,
   "metadata": {},
   "outputs": [
    {
     "data": {
      "text/plain": [
       "(10011, 25)"
      ]
     },
     "execution_count": 2758,
     "metadata": {},
     "output_type": "execute_result"
    }
   ],
   "source": [
    "aviation_df.shape"
   ]
  },
  {
   "cell_type": "code",
   "execution_count": 2759,
   "metadata": {},
   "outputs": [
    {
     "data": {
      "text/plain": [
       "Event.Id                    0\n",
       "Investigation.Type          0\n",
       "Accident.Number             0\n",
       "Event.Date                  0\n",
       "Location                    0\n",
       "Country                     0\n",
       "Latitude                  249\n",
       "Longitude                 249\n",
       "Injury.Severity            22\n",
       "Aircraft.damage             0\n",
       "Aircraft.Category           0\n",
       "Registration.Number         0\n",
       "Make                        0\n",
       "Model                       0\n",
       "Amateur.Built               0\n",
       "Number.of.Engines         165\n",
       "Engine.Type                 0\n",
       "FAR.Description             0\n",
       "Air.carrier                 0\n",
       "Total.Fatal.Injuries       84\n",
       "Total.Serious.Injuries     89\n",
       "Total.Minor.Injuries       88\n",
       "Weather.Condition           0\n",
       "Report.Status               0\n",
       "Publication.Date            0\n",
       "dtype: int64"
      ]
     },
     "execution_count": 2759,
     "metadata": {},
     "output_type": "execute_result"
    }
   ],
   "source": [
    "aviation_df.isnull().sum()"
   ]
  },
  {
   "cell_type": "markdown",
   "metadata": {},
   "source": [
    "CHECKING UNIQUE VALUES IN THE REMAINING COLUMNS"
   ]
  },
  {
   "cell_type": "code",
   "execution_count": 2760,
   "metadata": {},
   "outputs": [
    {
     "data": {
      "text/plain": [
       "array([-70.758333, nan, '-113.983333', ..., '1584954W', '0091339W',\n",
       "       '0087365W'], dtype=object)"
      ]
     },
     "execution_count": 2760,
     "metadata": {},
     "output_type": "execute_result"
    }
   ],
   "source": [
    "aviation_df['Longitude'].unique()"
   ]
  },
  {
   "cell_type": "code",
   "execution_count": 2761,
   "metadata": {},
   "outputs": [
    {
     "data": {
      "text/plain": [
       "array([42.445277000000004, nan, '35.988611', ..., '562341N', '452620N',\n",
       "       '040122N'], dtype=object)"
      ]
     },
     "execution_count": 2761,
     "metadata": {},
     "output_type": "execute_result"
    }
   ],
   "source": [
    "aviation_df['Latitude'].unique()"
   ]
  },
  {
   "cell_type": "code",
   "execution_count": 2762,
   "metadata": {},
   "outputs": [
    {
     "data": {
      "text/plain": [
       "array([ 2.,  1.,  4.,  3., nan,  0.,  8.])"
      ]
     },
     "execution_count": 2762,
     "metadata": {},
     "output_type": "execute_result"
    }
   ],
   "source": [
    "aviation_df['Number.of.Engines'].unique()"
   ]
  },
  {
   "cell_type": "code",
   "execution_count": 2763,
   "metadata": {},
   "outputs": [
    {
     "data": {
      "text/plain": [
       "array(['Non-Fatal', 'Fatal(2)', 'Incident', 'Fatal(1)', 'Fatal(4)',\n",
       "       'Fatal(5)', 'Fatal(3)', 'Fatal(8)', 'Fatal(10)', 'Fatal(27)',\n",
       "       'Fatal(9)', 'Fatal(6)', 'Fatal(13)', 'Fatal', nan, 'Minor',\n",
       "       'Serious'], dtype=object)"
      ]
     },
     "execution_count": 2763,
     "metadata": {},
     "output_type": "execute_result"
    }
   ],
   "source": [
    "aviation_df['Injury.Severity'].unique()"
   ]
  },
  {
   "cell_type": "code",
   "execution_count": 2764,
   "metadata": {},
   "outputs": [],
   "source": [
    "aviation_df.loc[:,('Injury.Severity','Number.of.Engines','Latitude','Longitude')].fillna('Unknown',inplace=True)"
   ]
  },
  {
   "cell_type": "code",
   "execution_count": 2765,
   "metadata": {},
   "outputs": [],
   "source": [
    "aviation_df.fillna({'Injury.Severity':'Unknown',\n",
    "                   'Number.of.Engines':'Unknown',\n",
    "                   'Latitude':'Unknown',\n",
    "                   'Longitude':'Unknown'},inplace=True)"
   ]
  },
  {
   "cell_type": "code",
   "execution_count": 2766,
   "metadata": {},
   "outputs": [
    {
     "data": {
      "text/plain": [
       "Event.Id                   0\n",
       "Investigation.Type         0\n",
       "Accident.Number            0\n",
       "Event.Date                 0\n",
       "Location                   0\n",
       "Country                    0\n",
       "Latitude                   0\n",
       "Longitude                  0\n",
       "Injury.Severity            0\n",
       "Aircraft.damage            0\n",
       "Aircraft.Category          0\n",
       "Registration.Number        0\n",
       "Make                       0\n",
       "Model                      0\n",
       "Amateur.Built              0\n",
       "Number.of.Engines          0\n",
       "Engine.Type                0\n",
       "FAR.Description            0\n",
       "Air.carrier                0\n",
       "Total.Fatal.Injuries      84\n",
       "Total.Serious.Injuries    89\n",
       "Total.Minor.Injuries      88\n",
       "Weather.Condition          0\n",
       "Report.Status              0\n",
       "Publication.Date           0\n",
       "dtype: int64"
      ]
     },
     "execution_count": 2766,
     "metadata": {},
     "output_type": "execute_result"
    }
   ],
   "source": [
    "aviation_df.isnull().sum()"
   ]
  },
  {
   "cell_type": "markdown",
   "metadata": {},
   "source": [
    "DEALING WITH NUMERICAL COLUMNS"
   ]
  },
  {
   "cell_type": "code",
   "execution_count": 2767,
   "metadata": {},
   "outputs": [
    {
     "data": {
      "text/html": [
       "<div>\n",
       "<style scoped>\n",
       "    .dataframe tbody tr th:only-of-type {\n",
       "        vertical-align: middle;\n",
       "    }\n",
       "\n",
       "    .dataframe tbody tr th {\n",
       "        vertical-align: top;\n",
       "    }\n",
       "\n",
       "    .dataframe thead th {\n",
       "        text-align: right;\n",
       "    }\n",
       "</style>\n",
       "<table border=\"1\" class=\"dataframe\">\n",
       "  <thead>\n",
       "    <tr style=\"text-align: right;\">\n",
       "      <th></th>\n",
       "      <th>Total.Fatal.Injuries</th>\n",
       "      <th>Total.Serious.Injuries</th>\n",
       "      <th>Total.Minor.Injuries</th>\n",
       "    </tr>\n",
       "  </thead>\n",
       "  <tbody>\n",
       "    <tr>\n",
       "      <th>count</th>\n",
       "      <td>9927.000000</td>\n",
       "      <td>9922.000000</td>\n",
       "      <td>9923.000000</td>\n",
       "    </tr>\n",
       "    <tr>\n",
       "      <th>mean</th>\n",
       "      <td>0.287398</td>\n",
       "      <td>0.306793</td>\n",
       "      <td>0.176761</td>\n",
       "    </tr>\n",
       "    <tr>\n",
       "      <th>std</th>\n",
       "      <td>1.021581</td>\n",
       "      <td>2.062478</td>\n",
       "      <td>0.941547</td>\n",
       "    </tr>\n",
       "    <tr>\n",
       "      <th>min</th>\n",
       "      <td>0.000000</td>\n",
       "      <td>0.000000</td>\n",
       "      <td>0.000000</td>\n",
       "    </tr>\n",
       "    <tr>\n",
       "      <th>25%</th>\n",
       "      <td>0.000000</td>\n",
       "      <td>0.000000</td>\n",
       "      <td>0.000000</td>\n",
       "    </tr>\n",
       "    <tr>\n",
       "      <th>50%</th>\n",
       "      <td>0.000000</td>\n",
       "      <td>0.000000</td>\n",
       "      <td>0.000000</td>\n",
       "    </tr>\n",
       "    <tr>\n",
       "      <th>75%</th>\n",
       "      <td>0.000000</td>\n",
       "      <td>0.000000</td>\n",
       "      <td>0.000000</td>\n",
       "    </tr>\n",
       "    <tr>\n",
       "      <th>max</th>\n",
       "      <td>49.000000</td>\n",
       "      <td>137.000000</td>\n",
       "      <td>50.000000</td>\n",
       "    </tr>\n",
       "  </tbody>\n",
       "</table>\n",
       "</div>"
      ],
      "text/plain": [
       "       Total.Fatal.Injuries  Total.Serious.Injuries  Total.Minor.Injuries\n",
       "count           9927.000000             9922.000000           9923.000000\n",
       "mean               0.287398                0.306793              0.176761\n",
       "std                1.021581                2.062478              0.941547\n",
       "min                0.000000                0.000000              0.000000\n",
       "25%                0.000000                0.000000              0.000000\n",
       "50%                0.000000                0.000000              0.000000\n",
       "75%                0.000000                0.000000              0.000000\n",
       "max               49.000000              137.000000             50.000000"
      ]
     },
     "execution_count": 2767,
     "metadata": {},
     "output_type": "execute_result"
    }
   ],
   "source": [
    "#Three columns still have missing values,they contain numerical values hence the descibe method is used in getting more statistical data on the columns.\n",
    "aviation_df.describe()"
   ]
  },
  {
   "cell_type": "code",
   "execution_count": 2768,
   "metadata": {},
   "outputs": [
    {
     "data": {
      "text/plain": [
       "array([nan,  0.,  2.,  1.,  4.,  5.,  3.,  8., 10., 27.,  9.,  6., 13.,\n",
       "        7., 49., 14., 12., 11.])"
      ]
     },
     "execution_count": 2768,
     "metadata": {},
     "output_type": "execute_result"
    }
   ],
   "source": [
    "aviation_df['Total.Fatal.Injuries'].unique()"
   ]
  },
  {
   "cell_type": "code",
   "execution_count": 2769,
   "metadata": {},
   "outputs": [
    {
     "data": {
      "text/plain": [
       "0.0     8421\n",
       "1.0      816\n",
       "2.0      411\n",
       "3.0      140\n",
       "4.0       74\n",
       "5.0       28\n",
       "6.0       11\n",
       "7.0        6\n",
       "8.0        5\n",
       "9.0        5\n",
       "10.0       4\n",
       "11.0       1\n",
       "14.0       1\n",
       "12.0       1\n",
       "49.0       1\n",
       "13.0       1\n",
       "27.0       1\n",
       "Name: Total.Fatal.Injuries, dtype: int64"
      ]
     },
     "execution_count": 2769,
     "metadata": {},
     "output_type": "execute_result"
    }
   ],
   "source": [
    "aviation_df['Total.Fatal.Injuries'].value_counts()"
   ]
  },
  {
   "cell_type": "code",
   "execution_count": 2770,
   "metadata": {},
   "outputs": [
    {
     "data": {
      "text/plain": [
       "array([ nan,   0.,   2.,   1.,   4.,   5.,  10.,   8.,   3.,   7.,   9.,\n",
       "         6.,  11.,  25., 137.,  19.,  21.,  27.,  20., 125.,  22.])"
      ]
     },
     "execution_count": 2770,
     "metadata": {},
     "output_type": "execute_result"
    }
   ],
   "source": [
    "aviation_df['Total.Serious.Injuries'].unique()"
   ]
  },
  {
   "cell_type": "code",
   "execution_count": 2771,
   "metadata": {},
   "outputs": [
    {
     "data": {
      "text/plain": [
       "0.0      8166\n",
       "1.0      1163\n",
       "2.0       416\n",
       "3.0        98\n",
       "4.0        39\n",
       "5.0        14\n",
       "6.0         6\n",
       "7.0         5\n",
       "8.0         4\n",
       "25.0        1\n",
       "137.0       1\n",
       "20.0        1\n",
       "22.0        1\n",
       "27.0        1\n",
       "10.0        1\n",
       "125.0       1\n",
       "9.0         1\n",
       "21.0        1\n",
       "11.0        1\n",
       "19.0        1\n",
       "Name: Total.Serious.Injuries, dtype: int64"
      ]
     },
     "execution_count": 2771,
     "metadata": {},
     "output_type": "execute_result"
    }
   ],
   "source": [
    "aviation_df['Total.Serious.Injuries'].value_counts()"
   ]
  },
  {
   "cell_type": "code",
   "execution_count": 2772,
   "metadata": {},
   "outputs": [
    {
     "data": {
      "text/plain": [
       "array([ 1.,  0.,  3.,  2., 24.,  5., 25., nan, 19.,  4.,  6., 12.,  9.,\n",
       "       42.,  7., 50.,  8.])"
      ]
     },
     "execution_count": 2772,
     "metadata": {},
     "output_type": "execute_result"
    }
   ],
   "source": [
    "aviation_df['Total.Minor.Injuries'].unique()"
   ]
  },
  {
   "cell_type": "code",
   "execution_count": 2773,
   "metadata": {},
   "outputs": [
    {
     "data": {
      "text/plain": [
       "0.0     8787\n",
       "1.0      843\n",
       "2.0      196\n",
       "3.0       57\n",
       "4.0       17\n",
       "5.0        7\n",
       "6.0        4\n",
       "9.0        3\n",
       "7.0        2\n",
       "50.0       1\n",
       "19.0       1\n",
       "42.0       1\n",
       "25.0       1\n",
       "8.0        1\n",
       "12.0       1\n",
       "24.0       1\n",
       "Name: Total.Minor.Injuries, dtype: int64"
      ]
     },
     "execution_count": 2773,
     "metadata": {},
     "output_type": "execute_result"
    }
   ],
   "source": [
    "aviation_df['Total.Minor.Injuries'].value_counts()"
   ]
  },
  {
   "cell_type": "markdown",
   "metadata": {},
   "source": [
    "The standard deviations of the above three columns indicate the values are clustered closely near the mean value. Hence the mean values can be used in place of the missing values."
   ]
  },
  {
   "cell_type": "code",
   "execution_count": 2774,
   "metadata": {},
   "outputs": [],
   "source": [
    "#replacing the missing values with the column means\n",
    "aviation_df.fillna({\n",
    "    'Total.Fatal.Injuries':aviation_df['Total.Fatal.Injuries'].mean(),\n",
    "    'Total.Serious.Injuries':aviation_df['Total.Serious.Injuries'].mean(),\n",
    "    'Total.Minor.Injuries':aviation_df['Total.Minor.Injuries'].mean()\n",
    "},inplace=True)"
   ]
  },
  {
   "cell_type": "code",
   "execution_count": 2775,
   "metadata": {},
   "outputs": [
    {
     "data": {
      "text/plain": [
       "Event.Id                  0\n",
       "Investigation.Type        0\n",
       "Accident.Number           0\n",
       "Event.Date                0\n",
       "Location                  0\n",
       "Country                   0\n",
       "Latitude                  0\n",
       "Longitude                 0\n",
       "Injury.Severity           0\n",
       "Aircraft.damage           0\n",
       "Aircraft.Category         0\n",
       "Registration.Number       0\n",
       "Make                      0\n",
       "Model                     0\n",
       "Amateur.Built             0\n",
       "Number.of.Engines         0\n",
       "Engine.Type               0\n",
       "FAR.Description           0\n",
       "Air.carrier               0\n",
       "Total.Fatal.Injuries      0\n",
       "Total.Serious.Injuries    0\n",
       "Total.Minor.Injuries      0\n",
       "Weather.Condition         0\n",
       "Report.Status             0\n",
       "Publication.Date          0\n",
       "dtype: int64"
      ]
     },
     "execution_count": 2775,
     "metadata": {},
     "output_type": "execute_result"
    }
   ],
   "source": [
    "#checking remaining missing values in other columns\n",
    "aviation_df.isnull().sum()"
   ]
  },
  {
   "cell_type": "code",
   "execution_count": 2776,
   "metadata": {},
   "outputs": [
    {
     "data": {
      "text/plain": [
       "(10011, 25)"
      ]
     },
     "execution_count": 2776,
     "metadata": {},
     "output_type": "execute_result"
    }
   ],
   "source": [
    "aviation_df.shape"
   ]
  },
  {
   "cell_type": "markdown",
   "metadata": {},
   "source": [
    "The above data set has been cleaned of all missing values.It currently has 10011 rows and 25 columns.Initially before the cleaning there were 88889 rows and 31 columns.The next step is checking for duplicates in the data set as duplicates alter the outcome of the data set analysis,"
   ]
  },
  {
   "cell_type": "code",
   "execution_count": 2777,
   "metadata": {},
   "outputs": [
    {
     "data": {
      "text/plain": [
       "array([False])"
      ]
     },
     "execution_count": 2777,
     "metadata": {},
     "output_type": "execute_result"
    }
   ],
   "source": [
    "#checking for duplicates\n",
    "aviation_df.duplicated().unique()"
   ]
  },
  {
   "cell_type": "markdown",
   "metadata": {},
   "source": [
    "The false outcome result shows no data has been duplicated.The next step is checking for outliers.Outliers have an impact on the outcome of the dataset analysis,and might misrepresent the results."
   ]
  },
  {
   "cell_type": "code",
   "execution_count": 2778,
   "metadata": {},
   "outputs": [
    {
     "data": {
      "text/html": [
       "<div>\n",
       "<style scoped>\n",
       "    .dataframe tbody tr th:only-of-type {\n",
       "        vertical-align: middle;\n",
       "    }\n",
       "\n",
       "    .dataframe tbody tr th {\n",
       "        vertical-align: top;\n",
       "    }\n",
       "\n",
       "    .dataframe thead th {\n",
       "        text-align: right;\n",
       "    }\n",
       "</style>\n",
       "<table border=\"1\" class=\"dataframe\">\n",
       "  <thead>\n",
       "    <tr style=\"text-align: right;\">\n",
       "      <th></th>\n",
       "      <th>Total.Fatal.Injuries</th>\n",
       "      <th>Total.Serious.Injuries</th>\n",
       "      <th>Total.Minor.Injuries</th>\n",
       "    </tr>\n",
       "  </thead>\n",
       "  <tbody>\n",
       "    <tr>\n",
       "      <th>count</th>\n",
       "      <td>10011.000000</td>\n",
       "      <td>10011.000000</td>\n",
       "      <td>10011.000000</td>\n",
       "    </tr>\n",
       "    <tr>\n",
       "      <th>mean</th>\n",
       "      <td>0.287398</td>\n",
       "      <td>0.306793</td>\n",
       "      <td>0.176761</td>\n",
       "    </tr>\n",
       "    <tr>\n",
       "      <th>std</th>\n",
       "      <td>1.017286</td>\n",
       "      <td>2.053289</td>\n",
       "      <td>0.937399</td>\n",
       "    </tr>\n",
       "    <tr>\n",
       "      <th>min</th>\n",
       "      <td>0.000000</td>\n",
       "      <td>0.000000</td>\n",
       "      <td>0.000000</td>\n",
       "    </tr>\n",
       "    <tr>\n",
       "      <th>25%</th>\n",
       "      <td>0.000000</td>\n",
       "      <td>0.000000</td>\n",
       "      <td>0.000000</td>\n",
       "    </tr>\n",
       "    <tr>\n",
       "      <th>50%</th>\n",
       "      <td>0.000000</td>\n",
       "      <td>0.000000</td>\n",
       "      <td>0.000000</td>\n",
       "    </tr>\n",
       "    <tr>\n",
       "      <th>75%</th>\n",
       "      <td>0.000000</td>\n",
       "      <td>0.000000</td>\n",
       "      <td>0.000000</td>\n",
       "    </tr>\n",
       "    <tr>\n",
       "      <th>max</th>\n",
       "      <td>49.000000</td>\n",
       "      <td>137.000000</td>\n",
       "      <td>50.000000</td>\n",
       "    </tr>\n",
       "  </tbody>\n",
       "</table>\n",
       "</div>"
      ],
      "text/plain": [
       "       Total.Fatal.Injuries  Total.Serious.Injuries  Total.Minor.Injuries\n",
       "count          10011.000000            10011.000000          10011.000000\n",
       "mean               0.287398                0.306793              0.176761\n",
       "std                1.017286                2.053289              0.937399\n",
       "min                0.000000                0.000000              0.000000\n",
       "25%                0.000000                0.000000              0.000000\n",
       "50%                0.000000                0.000000              0.000000\n",
       "75%                0.000000                0.000000              0.000000\n",
       "max               49.000000              137.000000             50.000000"
      ]
     },
     "execution_count": 2778,
     "metadata": {},
     "output_type": "execute_result"
    }
   ],
   "source": [
    "aviation_df.describe()"
   ]
  },
  {
   "cell_type": "markdown",
   "metadata": {},
   "source": [
    "HANDLING OUTLIERS"
   ]
  },
  {
   "cell_type": "markdown",
   "metadata": {},
   "source": [
    "Total fatal injuries"
   ]
  },
  {
   "cell_type": "code",
   "execution_count": 2779,
   "metadata": {},
   "outputs": [
    {
     "data": {
      "text/plain": [
       "0.0"
      ]
     },
     "execution_count": 2779,
     "metadata": {},
     "output_type": "execute_result"
    }
   ],
   "source": [
    "#handling outliers\n",
    "Q1=aviation_df['Total.Fatal.Injuries'].quantile(0.25)\n",
    "Q3=aviation_df['Total.Fatal.Injuries'].quantile(0.75)\n",
    "IQR=Q3-Q1\n",
    "IQR\n"
   ]
  },
  {
   "cell_type": "code",
   "execution_count": 2780,
   "metadata": {},
   "outputs": [
    {
     "data": {
      "text/plain": [
       "0.0"
      ]
     },
     "execution_count": 2780,
     "metadata": {},
     "output_type": "execute_result"
    }
   ],
   "source": [
    "Q1"
   ]
  },
  {
   "cell_type": "code",
   "execution_count": 2781,
   "metadata": {},
   "outputs": [
    {
     "data": {
      "text/plain": [
       "0.0"
      ]
     },
     "execution_count": 2781,
     "metadata": {},
     "output_type": "execute_result"
    }
   ],
   "source": [
    "Q3"
   ]
  },
  {
   "cell_type": "markdown",
   "metadata": {},
   "source": [
    "From the above analysis,the first and third quantile values are zero.This shows that the middle values(50%),IQR,are closely knit.From the data description the standard deviation of the fatal injuries column is 1.01,showing minimum deviation from the mean."
   ]
  },
  {
   "cell_type": "code",
   "execution_count": 2782,
   "metadata": {},
   "outputs": [
    {
     "data": {
      "text/plain": [
       "0.0"
      ]
     },
     "execution_count": 2782,
     "metadata": {},
     "output_type": "execute_result"
    }
   ],
   "source": [
    "#DEFINE OUTLIER BOUNDARIES\n",
    "lower_bound = Q1 - 1.5*IQR\n",
    "upper_bound = Q3 + 1.5*IQR\n",
    "upper_bound"
   ]
  },
  {
   "cell_type": "code",
   "execution_count": 2783,
   "metadata": {},
   "outputs": [
    {
     "data": {
      "text/plain": [
       "0"
      ]
     },
     "execution_count": 2783,
     "metadata": {},
     "output_type": "execute_result"
    }
   ],
   "source": [
    "#filter out outliers\n",
    "aviation_df_Total_Fatal_Injuries_outliers = ((aviation_df['Total.Fatal.Injuries'] <lower_bound) & (aviation_df['Total.Fatal.Injuries'] > upper_bound))\n",
    "aviation_df_Total_Fatal_Injuries_outliers.sum()"
   ]
  },
  {
   "cell_type": "code",
   "execution_count": 2784,
   "metadata": {},
   "outputs": [
    {
     "data": {
      "text/plain": [
       "0.000000     8421\n",
       "1.000000      816\n",
       "2.000000      411\n",
       "3.000000      140\n",
       "0.287398       84\n",
       "4.000000       74\n",
       "5.000000       28\n",
       "6.000000       11\n",
       "7.000000        6\n",
       "8.000000        5\n",
       "9.000000        5\n",
       "10.000000       4\n",
       "49.000000       1\n",
       "12.000000       1\n",
       "14.000000       1\n",
       "27.000000       1\n",
       "13.000000       1\n",
       "11.000000       1\n",
       "Name: Total.Fatal.Injuries, dtype: int64"
      ]
     },
     "execution_count": 2784,
     "metadata": {},
     "output_type": "execute_result"
    }
   ],
   "source": [
    "aviation_df['Total.Fatal.Injuries'].value_counts()"
   ]
  },
  {
   "cell_type": "code",
   "execution_count": 2785,
   "metadata": {},
   "outputs": [
    {
     "data": {
      "image/png": "[encoded data removed]",
      "text/plain": [
       "<Figure size 432x288 with 1 Axes>"
      ]
     },
     "metadata": {
      "needs_background": "light"
     },
     "output_type": "display_data"
    }
   ],
   "source": [
    "aviation_df['Total.Fatal.Injuries'].plot.box();"
   ]
  },
  {
   "cell_type": "markdown",
   "metadata": {},
   "source": [
    "Total serious injuries"
   ]
  },
  {
   "cell_type": "code",
   "execution_count": 2786,
   "metadata": {},
   "outputs": [
    {
     "data": {
      "text/plain": [
       "0.0"
      ]
     },
     "execution_count": 2786,
     "metadata": {},
     "output_type": "execute_result"
    }
   ],
   "source": [
    "Q4=aviation_df['Total.Serious.Injuries'].quantile(0.25)\n",
    "Q6=aviation_df['Total.Serious.Injuries'].quantile(0.75)\n",
    "IQR=Q6-Q4\n",
    "IQR"
   ]
  },
  {
   "cell_type": "code",
   "execution_count": 2787,
   "metadata": {},
   "outputs": [
    {
     "data": {
      "text/plain": [
       "0.0"
      ]
     },
     "execution_count": 2787,
     "metadata": {},
     "output_type": "execute_result"
    }
   ],
   "source": [
    "Q4"
   ]
  },
  {
   "cell_type": "code",
   "execution_count": 2788,
   "metadata": {},
   "outputs": [
    {
     "data": {
      "text/plain": [
       "0.0"
      ]
     },
     "execution_count": 2788,
     "metadata": {},
     "output_type": "execute_result"
    }
   ],
   "source": [
    "Q6"
   ]
  },
  {
   "cell_type": "code",
   "execution_count": 2789,
   "metadata": {},
   "outputs": [
    {
     "data": {
      "text/plain": [
       "0.0"
      ]
     },
     "execution_count": 2789,
     "metadata": {},
     "output_type": "execute_result"
    }
   ],
   "source": [
    "#DEFINE OUTLIER BOUNDARIES\n",
    "lower_bound = Q4 - 1.5*IQR\n",
    "upper_bound = Q6 + 1.5*IQR\n",
    "upper_bound"
   ]
  },
  {
   "cell_type": "code",
   "execution_count": 2790,
   "metadata": {},
   "outputs": [
    {
     "data": {
      "text/plain": [
       "0"
      ]
     },
     "execution_count": 2790,
     "metadata": {},
     "output_type": "execute_result"
    }
   ],
   "source": [
    "#filter out outliers\n",
    "aviation_df_Total_Serious_Injuries_outliers = ((aviation_df['Total.Serious.Injuries'] <lower_bound) & (aviation_df['Total.Serious.Injuries'] > upper_bound))\n",
    "aviation_df_Total_Serious_Injuries_outliers.sum()"
   ]
  },
  {
   "cell_type": "code",
   "execution_count": 2791,
   "metadata": {},
   "outputs": [
    {
     "data": {
      "image/png": "[encoded data removed]",
      "text/plain": [
       "<Figure size 432x288 with 1 Axes>"
      ]
     },
     "metadata": {
      "needs_background": "light"
     },
     "output_type": "display_data"
    }
   ],
   "source": [
    "aviation_df['Total.Serious.Injuries'].plot.box();"
   ]
  },
  {
   "cell_type": "markdown",
   "metadata": {},
   "source": [
    "Total minor injuries"
   ]
  },
  {
   "cell_type": "code",
   "execution_count": 2792,
   "metadata": {},
   "outputs": [
    {
     "data": {
      "text/plain": [
       "0.0"
      ]
     },
     "execution_count": 2792,
     "metadata": {},
     "output_type": "execute_result"
    }
   ],
   "source": [
    "Q7=aviation_df['Total.Minor.Injuries'].quantile(0.25)\n",
    "Q9=aviation_df['Total.Minor.Injuries'].quantile(0.75)\n",
    "IQR=Q9-Q7\n",
    "IQR"
   ]
  },
  {
   "cell_type": "code",
   "execution_count": 2793,
   "metadata": {},
   "outputs": [
    {
     "data": {
      "text/plain": [
       "0.0"
      ]
     },
     "execution_count": 2793,
     "metadata": {},
     "output_type": "execute_result"
    }
   ],
   "source": [
    "Q7"
   ]
  },
  {
   "cell_type": "code",
   "execution_count": 2794,
   "metadata": {},
   "outputs": [
    {
     "data": {
      "text/plain": [
       "0.0"
      ]
     },
     "execution_count": 2794,
     "metadata": {},
     "output_type": "execute_result"
    }
   ],
   "source": [
    "Q9"
   ]
  },
  {
   "cell_type": "code",
   "execution_count": 2795,
   "metadata": {},
   "outputs": [
    {
     "data": {
      "text/plain": [
       "0.0"
      ]
     },
     "execution_count": 2795,
     "metadata": {},
     "output_type": "execute_result"
    }
   ],
   "source": [
    "#DEFINE OUTLIER BOUNDARIES\n",
    "lower_bound = Q7 - 1.5*IQR\n",
    "upper_bound = Q9 + 1.5*IQR\n",
    "upper_bound"
   ]
  },
  {
   "cell_type": "code",
   "execution_count": 2796,
   "metadata": {},
   "outputs": [
    {
     "data": {
      "text/plain": [
       "0"
      ]
     },
     "execution_count": 2796,
     "metadata": {},
     "output_type": "execute_result"
    }
   ],
   "source": [
    "#filter out outliers\n",
    "aviation_df_Total_Minor_Injuries_outliers = ((aviation_df['Total.Minor.Injuries'] <lower_bound) & (aviation_df['Total.Minor.Injuries'] > upper_bound))\n",
    "aviation_df_Total_Minor_Injuries_outliers.sum()"
   ]
  },
  {
   "cell_type": "code",
   "execution_count": 2797,
   "metadata": {},
   "outputs": [
    {
     "data": {
      "image/png": "[encoded data removed]",
      "text/plain": [
       "<Figure size 432x288 with 1 Axes>"
      ]
     },
     "metadata": {
      "needs_background": "light"
     },
     "output_type": "display_data"
    }
   ],
   "source": [
    "aviation_df['Total.Minor.Injuries'].plot.box();"
   ]
  },
  {
   "cell_type": "code",
   "execution_count": 2798,
   "metadata": {},
   "outputs": [
    {
     "data": {
      "text/plain": [
       "Event.Id                   object\n",
       "Investigation.Type         object\n",
       "Accident.Number            object\n",
       "Event.Date                 object\n",
       "Location                   object\n",
       "Country                    object\n",
       "Latitude                   object\n",
       "Longitude                  object\n",
       "Injury.Severity            object\n",
       "Aircraft.damage            object\n",
       "Aircraft.Category          object\n",
       "Registration.Number        object\n",
       "Make                       object\n",
       "Model                      object\n",
       "Amateur.Built              object\n",
       "Number.of.Engines          object\n",
       "Engine.Type                object\n",
       "FAR.Description            object\n",
       "Air.carrier                object\n",
       "Total.Fatal.Injuries      float64\n",
       "Total.Serious.Injuries    float64\n",
       "Total.Minor.Injuries      float64\n",
       "Weather.Condition          object\n",
       "Report.Status              object\n",
       "Publication.Date           object\n",
       "dtype: object"
      ]
     },
     "execution_count": 2798,
     "metadata": {},
     "output_type": "execute_result"
    }
   ],
   "source": [
    "aviation_df.dtypes"
   ]
  },
  {
   "cell_type": "code",
   "execution_count": 2799,
   "metadata": {},
   "outputs": [
    {
     "data": {
      "text/html": [
       "<div>\n",
       "<style scoped>\n",
       "    .dataframe tbody tr th:only-of-type {\n",
       "        vertical-align: middle;\n",
       "    }\n",
       "\n",
       "    .dataframe tbody tr th {\n",
       "        vertical-align: top;\n",
       "    }\n",
       "\n",
       "    .dataframe thead th {\n",
       "        text-align: right;\n",
       "    }\n",
       "</style>\n",
       "<table border=\"1\" class=\"dataframe\">\n",
       "  <thead>\n",
       "    <tr style=\"text-align: right;\">\n",
       "      <th></th>\n",
       "      <th>Event.Id</th>\n",
       "      <th>Investigation.Type</th>\n",
       "      <th>Accident.Number</th>\n",
       "      <th>Event.Date</th>\n",
       "      <th>Location</th>\n",
       "      <th>Country</th>\n",
       "      <th>Latitude</th>\n",
       "      <th>Longitude</th>\n",
       "      <th>Injury.Severity</th>\n",
       "      <th>Aircraft.damage</th>\n",
       "      <th>...</th>\n",
       "      <th>Number.of.Engines</th>\n",
       "      <th>Engine.Type</th>\n",
       "      <th>FAR.Description</th>\n",
       "      <th>Air.carrier</th>\n",
       "      <th>Total.Fatal.Injuries</th>\n",
       "      <th>Total.Serious.Injuries</th>\n",
       "      <th>Total.Minor.Injuries</th>\n",
       "      <th>Weather.Condition</th>\n",
       "      <th>Report.Status</th>\n",
       "      <th>Publication.Date</th>\n",
       "    </tr>\n",
       "  </thead>\n",
       "  <tbody>\n",
       "    <tr>\n",
       "      <th>5</th>\n",
       "      <td>20170710X52551</td>\n",
       "      <td>Accident</td>\n",
       "      <td>NYC79AA106</td>\n",
       "      <td>1979-09-17</td>\n",
       "      <td>BOSTON, MA</td>\n",
       "      <td>United States</td>\n",
       "      <td>42.4453</td>\n",
       "      <td>-70.7583</td>\n",
       "      <td>Non-Fatal</td>\n",
       "      <td>Substantial</td>\n",
       "      <td>...</td>\n",
       "      <td>2</td>\n",
       "      <td>Turbo Fan</td>\n",
       "      <td>Part 129: Foreign</td>\n",
       "      <td>Air Canada</td>\n",
       "      <td>0.287398</td>\n",
       "      <td>0.306793</td>\n",
       "      <td>1.0</td>\n",
       "      <td>VMC</td>\n",
       "      <td>Probable Cause</td>\n",
       "      <td>19-09-2017</td>\n",
       "    </tr>\n",
       "    <tr>\n",
       "      <th>22</th>\n",
       "      <td>20020917X01657</td>\n",
       "      <td>Accident</td>\n",
       "      <td>ATL82DA027</td>\n",
       "      <td>1982-01-02</td>\n",
       "      <td>CHAMBLEE, GA</td>\n",
       "      <td>United States</td>\n",
       "      <td>Unknown</td>\n",
       "      <td>Unknown</td>\n",
       "      <td>Non-Fatal</td>\n",
       "      <td>Substantial</td>\n",
       "      <td>...</td>\n",
       "      <td>1</td>\n",
       "      <td>Turbo Shaft</td>\n",
       "      <td>Part 135: Air Taxi &amp; Commuter</td>\n",
       "      <td>Rocky Mountain Helicopters, In</td>\n",
       "      <td>0.000000</td>\n",
       "      <td>0.000000</td>\n",
       "      <td>0.0</td>\n",
       "      <td>VMC</td>\n",
       "      <td>Probable Cause</td>\n",
       "      <td>02-01-1983</td>\n",
       "    </tr>\n",
       "    <tr>\n",
       "      <th>33</th>\n",
       "      <td>20020917X02254</td>\n",
       "      <td>Accident</td>\n",
       "      <td>LAX82FA038</td>\n",
       "      <td>1982-01-04</td>\n",
       "      <td>NEAR LAS VEGAS, NV</td>\n",
       "      <td>United States</td>\n",
       "      <td>Unknown</td>\n",
       "      <td>Unknown</td>\n",
       "      <td>Fatal(2)</td>\n",
       "      <td>Destroyed</td>\n",
       "      <td>...</td>\n",
       "      <td>2</td>\n",
       "      <td>Reciprocating</td>\n",
       "      <td>Part 135: Air Taxi &amp; Commuter</td>\n",
       "      <td>Lang Air Service</td>\n",
       "      <td>2.000000</td>\n",
       "      <td>0.000000</td>\n",
       "      <td>0.0</td>\n",
       "      <td>VMC</td>\n",
       "      <td>Probable Cause</td>\n",
       "      <td>04-01-1983</td>\n",
       "    </tr>\n",
       "    <tr>\n",
       "      <th>39</th>\n",
       "      <td>20020917X01906</td>\n",
       "      <td>Accident</td>\n",
       "      <td>DCA82AA009</td>\n",
       "      <td>1982-01-05</td>\n",
       "      <td>ITHACA, NY</td>\n",
       "      <td>United States</td>\n",
       "      <td>Unknown</td>\n",
       "      <td>Unknown</td>\n",
       "      <td>Fatal(2)</td>\n",
       "      <td>Destroyed</td>\n",
       "      <td>...</td>\n",
       "      <td>2</td>\n",
       "      <td>Reciprocating</td>\n",
       "      <td>Part 135: Air Taxi &amp; Commuter</td>\n",
       "      <td>Empire Airlines</td>\n",
       "      <td>2.000000</td>\n",
       "      <td>0.000000</td>\n",
       "      <td>0.0</td>\n",
       "      <td>VMC</td>\n",
       "      <td>Probable Cause</td>\n",
       "      <td>05-01-1983</td>\n",
       "    </tr>\n",
       "    <tr>\n",
       "      <th>43</th>\n",
       "      <td>20020917X02156</td>\n",
       "      <td>Accident</td>\n",
       "      <td>LAX82DA037</td>\n",
       "      <td>1982-01-05</td>\n",
       "      <td>SPRINGERVILLE, AZ</td>\n",
       "      <td>United States</td>\n",
       "      <td>Unknown</td>\n",
       "      <td>Unknown</td>\n",
       "      <td>Non-Fatal</td>\n",
       "      <td>Substantial</td>\n",
       "      <td>...</td>\n",
       "      <td>1</td>\n",
       "      <td>Reciprocating</td>\n",
       "      <td>Part 135: Air Taxi &amp; Commuter</td>\n",
       "      <td>Joel Frederick's Monarch Air</td>\n",
       "      <td>0.000000</td>\n",
       "      <td>0.000000</td>\n",
       "      <td>0.0</td>\n",
       "      <td>VMC</td>\n",
       "      <td>Probable Cause</td>\n",
       "      <td>05-01-1983</td>\n",
       "    </tr>\n",
       "  </tbody>\n",
       "</table>\n",
       "<p>5 rows × 25 columns</p>\n",
       "</div>"
      ],
      "text/plain": [
       "          Event.Id Investigation.Type Accident.Number  Event.Date  \\\n",
       "5   20170710X52551           Accident      NYC79AA106  1979-09-17   \n",
       "22  20020917X01657           Accident      ATL82DA027  1982-01-02   \n",
       "33  20020917X02254           Accident      LAX82FA038  1982-01-04   \n",
       "39  20020917X01906           Accident      DCA82AA009  1982-01-05   \n",
       "43  20020917X02156           Accident      LAX82DA037  1982-01-05   \n",
       "\n",
       "              Location        Country Latitude Longitude Injury.Severity  \\\n",
       "5           BOSTON, MA  United States  42.4453  -70.7583       Non-Fatal   \n",
       "22        CHAMBLEE, GA  United States  Unknown   Unknown       Non-Fatal   \n",
       "33  NEAR LAS VEGAS, NV  United States  Unknown   Unknown        Fatal(2)   \n",
       "39          ITHACA, NY  United States  Unknown   Unknown        Fatal(2)   \n",
       "43   SPRINGERVILLE, AZ  United States  Unknown   Unknown       Non-Fatal   \n",
       "\n",
       "   Aircraft.damage  ... Number.of.Engines    Engine.Type  \\\n",
       "5      Substantial  ...                 2      Turbo Fan   \n",
       "22     Substantial  ...                 1    Turbo Shaft   \n",
       "33       Destroyed  ...                 2  Reciprocating   \n",
       "39       Destroyed  ...                 2  Reciprocating   \n",
       "43     Substantial  ...                 1  Reciprocating   \n",
       "\n",
       "                  FAR.Description                     Air.carrier  \\\n",
       "5               Part 129: Foreign                      Air Canada   \n",
       "22  Part 135: Air Taxi & Commuter  Rocky Mountain Helicopters, In   \n",
       "33  Part 135: Air Taxi & Commuter                Lang Air Service   \n",
       "39  Part 135: Air Taxi & Commuter                 Empire Airlines   \n",
       "43  Part 135: Air Taxi & Commuter    Joel Frederick's Monarch Air   \n",
       "\n",
       "   Total.Fatal.Injuries Total.Serious.Injuries Total.Minor.Injuries  \\\n",
       "5              0.287398               0.306793                  1.0   \n",
       "22             0.000000               0.000000                  0.0   \n",
       "33             2.000000               0.000000                  0.0   \n",
       "39             2.000000               0.000000                  0.0   \n",
       "43             0.000000               0.000000                  0.0   \n",
       "\n",
       "   Weather.Condition   Report.Status  Publication.Date  \n",
       "5                VMC  Probable Cause        19-09-2017  \n",
       "22               VMC  Probable Cause        02-01-1983  \n",
       "33               VMC  Probable Cause        04-01-1983  \n",
       "39               VMC  Probable Cause        05-01-1983  \n",
       "43               VMC  Probable Cause        05-01-1983  \n",
       "\n",
       "[5 rows x 25 columns]"
      ]
     },
     "execution_count": 2799,
     "metadata": {},
     "output_type": "execute_result"
    }
   ],
   "source": [
    "aviation_df.head()"
   ]
  },
  {
   "cell_type": "markdown",
   "metadata": {},
   "source": [
    "PARSING DATES"
   ]
  },
  {
   "cell_type": "code",
   "execution_count": 2800,
   "metadata": {},
   "outputs": [
    {
     "data": {
      "text/html": [
       "<div>\n",
       "<style scoped>\n",
       "    .dataframe tbody tr th:only-of-type {\n",
       "        vertical-align: middle;\n",
       "    }\n",
       "\n",
       "    .dataframe tbody tr th {\n",
       "        vertical-align: top;\n",
       "    }\n",
       "\n",
       "    .dataframe thead th {\n",
       "        text-align: right;\n",
       "    }\n",
       "</style>\n",
       "<table border=\"1\" class=\"dataframe\">\n",
       "  <thead>\n",
       "    <tr style=\"text-align: right;\">\n",
       "      <th></th>\n",
       "      <th>Publication.Date</th>\n",
       "      <th>Event.Date</th>\n",
       "    </tr>\n",
       "  </thead>\n",
       "  <tbody>\n",
       "    <tr>\n",
       "      <th>5</th>\n",
       "      <td>2017-09-19</td>\n",
       "      <td>1979-09-17</td>\n",
       "    </tr>\n",
       "    <tr>\n",
       "      <th>22</th>\n",
       "      <td>1983-02-01</td>\n",
       "      <td>1982-01-02</td>\n",
       "    </tr>\n",
       "    <tr>\n",
       "      <th>33</th>\n",
       "      <td>1983-04-01</td>\n",
       "      <td>1982-01-04</td>\n",
       "    </tr>\n",
       "    <tr>\n",
       "      <th>39</th>\n",
       "      <td>1983-05-01</td>\n",
       "      <td>1982-01-05</td>\n",
       "    </tr>\n",
       "    <tr>\n",
       "      <th>43</th>\n",
       "      <td>1983-05-01</td>\n",
       "      <td>1982-01-05</td>\n",
       "    </tr>\n",
       "  </tbody>\n",
       "</table>\n",
       "</div>"
      ],
      "text/plain": [
       "   Publication.Date Event.Date\n",
       "5        2017-09-19 1979-09-17\n",
       "22       1983-02-01 1982-01-02\n",
       "33       1983-04-01 1982-01-04\n",
       "39       1983-05-01 1982-01-05\n",
       "43       1983-05-01 1982-01-05"
      ]
     },
     "execution_count": 2800,
     "metadata": {},
     "output_type": "execute_result"
    }
   ],
   "source": [
    "#parsing dates to date time format,applying the coerce to indicate invalid dates\n",
    "aviation_df[['Publication.Date','Event.Date']]= aviation_df[['Publication.Date','Event.Date']].apply(pd.to_datetime,errors='coerce')\n",
    "aviation_df[['Publication.Date','Event.Date']].head()"
   ]
  },
  {
   "cell_type": "markdown",
   "metadata": {},
   "source": [
    "HANDLING INCONSISTENT DATA"
   ]
  },
  {
   "cell_type": "code",
   "execution_count": 2801,
   "metadata": {},
   "outputs": [
    {
     "data": {
      "text/plain": [
       "Event.Id                          object\n",
       "Investigation.Type                object\n",
       "Accident.Number                   object\n",
       "Event.Date                datetime64[ns]\n",
       "Location                          object\n",
       "Country                           object\n",
       "Latitude                          object\n",
       "Longitude                         object\n",
       "Injury.Severity                   object\n",
       "Aircraft.damage                   object\n",
       "Aircraft.Category                 object\n",
       "Registration.Number               object\n",
       "Make                              object\n",
       "Model                             object\n",
       "Amateur.Built                     object\n",
       "Number.of.Engines                 object\n",
       "Engine.Type                       object\n",
       "FAR.Description                   object\n",
       "Air.carrier                       object\n",
       "Total.Fatal.Injuries             float64\n",
       "Total.Serious.Injuries           float64\n",
       "Total.Minor.Injuries             float64\n",
       "Weather.Condition                 object\n",
       "Report.Status                     object\n",
       "Publication.Date          datetime64[ns]\n",
       "dtype: object"
      ]
     },
     "execution_count": 2801,
     "metadata": {},
     "output_type": "execute_result"
    }
   ],
   "source": [
    "#determining data types of the column values\n",
    "aviation_df.dtypes"
   ]
  },
  {
   "cell_type": "code",
   "execution_count": 2802,
   "metadata": {},
   "outputs": [
    {
     "data": {
      "text/plain": [
       "array([ 2.,  1.,  4.,  3., nan,  0.,  8.])"
      ]
     },
     "execution_count": 2802,
     "metadata": {},
     "output_type": "execute_result"
    }
   ],
   "source": [
    "#converting the number of engines column to numeric form\n",
    "aviation_df['Number.of.Engines']=pd.to_numeric(aviation_df['Number.of.Engines'],errors='coerce')\n",
    "\n",
    "aviation_df['Number.of.Engines'].unique()"
   ]
  },
  {
   "cell_type": "markdown",
   "metadata": {},
   "source": [
    "VISUALIZING DATA"
   ]
  },
  {
   "cell_type": "code",
   "execution_count": 2809,
   "metadata": {},
   "outputs": [
    {
     "data": {
      "text/html": [
       "<div>\n",
       "<style scoped>\n",
       "    .dataframe tbody tr th:only-of-type {\n",
       "        vertical-align: middle;\n",
       "    }\n",
       "\n",
       "    .dataframe tbody tr th {\n",
       "        vertical-align: top;\n",
       "    }\n",
       "\n",
       "    .dataframe thead th {\n",
       "        text-align: right;\n",
       "    }\n",
       "</style>\n",
       "<table border=\"1\" class=\"dataframe\">\n",
       "  <thead>\n",
       "    <tr style=\"text-align: right;\">\n",
       "      <th></th>\n",
       "      <th>Number.of.Engines</th>\n",
       "      <th>Total.Fatal.Injuries</th>\n",
       "      <th>Total.Serious.Injuries</th>\n",
       "      <th>Total.Minor.Injuries</th>\n",
       "    </tr>\n",
       "    <tr>\n",
       "      <th>Aircraft.Category</th>\n",
       "      <th></th>\n",
       "      <th></th>\n",
       "      <th></th>\n",
       "      <th></th>\n",
       "    </tr>\n",
       "  </thead>\n",
       "  <tbody>\n",
       "    <tr>\n",
       "      <th>Airplane</th>\n",
       "      <td>1.166405</td>\n",
       "      <td>0.282417</td>\n",
       "      <td>0.296994</td>\n",
       "      <td>0.163606</td>\n",
       "    </tr>\n",
       "    <tr>\n",
       "      <th>Balloon</th>\n",
       "      <td>2.600000</td>\n",
       "      <td>0.000000</td>\n",
       "      <td>2.166667</td>\n",
       "      <td>0.833333</td>\n",
       "    </tr>\n",
       "    <tr>\n",
       "      <th>Blimp</th>\n",
       "      <td>1.000000</td>\n",
       "      <td>0.000000</td>\n",
       "      <td>0.000000</td>\n",
       "      <td>1.000000</td>\n",
       "    </tr>\n",
       "    <tr>\n",
       "      <th>Glider</th>\n",
       "      <td>0.857143</td>\n",
       "      <td>0.137931</td>\n",
       "      <td>0.241379</td>\n",
       "      <td>0.172414</td>\n",
       "    </tr>\n",
       "    <tr>\n",
       "      <th>Gyrocraft</th>\n",
       "      <td>1.000000</td>\n",
       "      <td>0.264706</td>\n",
       "      <td>0.411765</td>\n",
       "      <td>0.235294</td>\n",
       "    </tr>\n",
       "    <tr>\n",
       "      <th>Helicopter</th>\n",
       "      <td>1.075594</td>\n",
       "      <td>0.316326</td>\n",
       "      <td>0.351818</td>\n",
       "      <td>0.226333</td>\n",
       "    </tr>\n",
       "    <tr>\n",
       "      <th>Powered Parachute</th>\n",
       "      <td>1.000000</td>\n",
       "      <td>0.171429</td>\n",
       "      <td>0.457143</td>\n",
       "      <td>0.771429</td>\n",
       "    </tr>\n",
       "    <tr>\n",
       "      <th>Rocket</th>\n",
       "      <td>1.000000</td>\n",
       "      <td>1.000000</td>\n",
       "      <td>0.000000</td>\n",
       "      <td>1.000000</td>\n",
       "    </tr>\n",
       "    <tr>\n",
       "      <th>Ultralight</th>\n",
       "      <td>1.166667</td>\n",
       "      <td>0.333333</td>\n",
       "      <td>0.000000</td>\n",
       "      <td>0.500000</td>\n",
       "    </tr>\n",
       "    <tr>\n",
       "      <th>Unknown</th>\n",
       "      <td>NaN</td>\n",
       "      <td>0.000000</td>\n",
       "      <td>0.000000</td>\n",
       "      <td>0.000000</td>\n",
       "    </tr>\n",
       "    <tr>\n",
       "      <th>Weight-Shift</th>\n",
       "      <td>1.000000</td>\n",
       "      <td>0.467742</td>\n",
       "      <td>0.354839</td>\n",
       "      <td>0.338710</td>\n",
       "    </tr>\n",
       "  </tbody>\n",
       "</table>\n",
       "</div>"
      ],
      "text/plain": [
       "                   Number.of.Engines  Total.Fatal.Injuries  \\\n",
       "Aircraft.Category                                            \n",
       "Airplane                    1.166405              0.282417   \n",
       "Balloon                     2.600000              0.000000   \n",
       "Blimp                       1.000000              0.000000   \n",
       "Glider                      0.857143              0.137931   \n",
       "Gyrocraft                   1.000000              0.264706   \n",
       "Helicopter                  1.075594              0.316326   \n",
       "Powered Parachute           1.000000              0.171429   \n",
       "Rocket                      1.000000              1.000000   \n",
       "Ultralight                  1.166667              0.333333   \n",
       "Unknown                          NaN              0.000000   \n",
       "Weight-Shift                1.000000              0.467742   \n",
       "\n",
       "                   Total.Serious.Injuries  Total.Minor.Injuries  \n",
       "Aircraft.Category                                                \n",
       "Airplane                         0.296994              0.163606  \n",
       "Balloon                          2.166667              0.833333  \n",
       "Blimp                            0.000000              1.000000  \n",
       "Glider                           0.241379              0.172414  \n",
       "Gyrocraft                        0.411765              0.235294  \n",
       "Helicopter                       0.351818              0.226333  \n",
       "Powered Parachute                0.457143              0.771429  \n",
       "Rocket                           0.000000              1.000000  \n",
       "Ultralight                       0.000000              0.500000  \n",
       "Unknown                          0.000000              0.000000  \n",
       "Weight-Shift                     0.354839              0.338710  "
      ]
     },
     "execution_count": 2809,
     "metadata": {},
     "output_type": "execute_result"
    }
   ],
   "source": [
    "aircraft_cat_mean_viz=aviation_df.groupby(['Aircraft.Category']).mean()\n",
    "aircraft_cat_mean_viz"
   ]
  },
  {
   "cell_type": "code",
   "execution_count": null,
   "metadata": {},
   "outputs": [
    {
     "data": {
      "image/png": "[encoded data removed]",
      "text/plain": [
       "<Figure size 864x576 with 1 Axes>"
      ]
     },
     "metadata": {
      "needs_background": "light"
     },
     "output_type": "display_data"
    }
   ],
   "source": [
    "#visualizing the aircraft categories statistical data-means\n",
    "aircraft_cat_mean_viz.plot(kind='bar',figsize=(12,8));\n",
    "plt.xlabel('Aircraft Categories');\n",
    "plt.ylabel('Mean values');\n",
    "plt.title('Aircraft categories data');\n"
   ]
  },
  {
   "cell_type": "markdown",
   "metadata": {},
   "source": [
    "From the above aircraft categories graph,it can be seen that blimp had only minor injuries,though the number was quite high compared to the other aircraft.\n",
    "The glider is seen to have the lowest number of fatal,serious and minor injuries combined, followed by the airplane.\n",
    "Ballon appears to have the highest number of engines as well as highest number of serious injuries.\n"
   ]
  },
  {
   "cell_type": "code",
   "execution_count": 2811,
   "metadata": {},
   "outputs": [
    {
     "data": {
      "text/html": [
       "<div>\n",
       "<style scoped>\n",
       "    .dataframe tbody tr th:only-of-type {\n",
       "        vertical-align: middle;\n",
       "    }\n",
       "\n",
       "    .dataframe tbody tr th {\n",
       "        vertical-align: top;\n",
       "    }\n",
       "\n",
       "    .dataframe thead th {\n",
       "        text-align: right;\n",
       "    }\n",
       "</style>\n",
       "<table border=\"1\" class=\"dataframe\">\n",
       "  <thead>\n",
       "    <tr style=\"text-align: right;\">\n",
       "      <th></th>\n",
       "      <th>Number.of.Engines</th>\n",
       "      <th>Total.Fatal.Injuries</th>\n",
       "      <th>Total.Serious.Injuries</th>\n",
       "      <th>Total.Minor.Injuries</th>\n",
       "    </tr>\n",
       "    <tr>\n",
       "      <th>Aircraft.Category</th>\n",
       "      <th></th>\n",
       "      <th></th>\n",
       "      <th></th>\n",
       "      <th></th>\n",
       "    </tr>\n",
       "  </thead>\n",
       "  <tbody>\n",
       "    <tr>\n",
       "      <th>Airplane</th>\n",
       "      <td>9666.0</td>\n",
       "      <td>2375.692656</td>\n",
       "      <td>2498.316267</td>\n",
       "      <td>1376.257080</td>\n",
       "    </tr>\n",
       "    <tr>\n",
       "      <th>Balloon</th>\n",
       "      <td>13.0</td>\n",
       "      <td>0.000000</td>\n",
       "      <td>13.000000</td>\n",
       "      <td>5.000000</td>\n",
       "    </tr>\n",
       "    <tr>\n",
       "      <th>Blimp</th>\n",
       "      <td>1.0</td>\n",
       "      <td>0.000000</td>\n",
       "      <td>0.000000</td>\n",
       "      <td>1.000000</td>\n",
       "    </tr>\n",
       "    <tr>\n",
       "      <th>Glider</th>\n",
       "      <td>24.0</td>\n",
       "      <td>4.000000</td>\n",
       "      <td>7.000000</td>\n",
       "      <td>5.000000</td>\n",
       "    </tr>\n",
       "    <tr>\n",
       "      <th>Gyrocraft</th>\n",
       "      <td>34.0</td>\n",
       "      <td>9.000000</td>\n",
       "      <td>14.000000</td>\n",
       "      <td>8.000000</td>\n",
       "    </tr>\n",
       "    <tr>\n",
       "      <th>Helicopter</th>\n",
       "      <td>1494.0</td>\n",
       "      <td>450.448776</td>\n",
       "      <td>500.988309</td>\n",
       "      <td>322.297894</td>\n",
       "    </tr>\n",
       "    <tr>\n",
       "      <th>Powered Parachute</th>\n",
       "      <td>35.0</td>\n",
       "      <td>6.000000</td>\n",
       "      <td>16.000000</td>\n",
       "      <td>27.000000</td>\n",
       "    </tr>\n",
       "    <tr>\n",
       "      <th>Rocket</th>\n",
       "      <td>1.0</td>\n",
       "      <td>1.000000</td>\n",
       "      <td>0.000000</td>\n",
       "      <td>1.000000</td>\n",
       "    </tr>\n",
       "    <tr>\n",
       "      <th>Ultralight</th>\n",
       "      <td>7.0</td>\n",
       "      <td>2.000000</td>\n",
       "      <td>0.000000</td>\n",
       "      <td>3.000000</td>\n",
       "    </tr>\n",
       "    <tr>\n",
       "      <th>Unknown</th>\n",
       "      <td>0.0</td>\n",
       "      <td>0.000000</td>\n",
       "      <td>0.000000</td>\n",
       "      <td>0.000000</td>\n",
       "    </tr>\n",
       "    <tr>\n",
       "      <th>Weight-Shift</th>\n",
       "      <td>60.0</td>\n",
       "      <td>29.000000</td>\n",
       "      <td>22.000000</td>\n",
       "      <td>21.000000</td>\n",
       "    </tr>\n",
       "  </tbody>\n",
       "</table>\n",
       "</div>"
      ],
      "text/plain": [
       "                   Number.of.Engines  Total.Fatal.Injuries  \\\n",
       "Aircraft.Category                                            \n",
       "Airplane                      9666.0           2375.692656   \n",
       "Balloon                         13.0              0.000000   \n",
       "Blimp                            1.0              0.000000   \n",
       "Glider                          24.0              4.000000   \n",
       "Gyrocraft                       34.0              9.000000   \n",
       "Helicopter                    1494.0            450.448776   \n",
       "Powered Parachute               35.0              6.000000   \n",
       "Rocket                           1.0              1.000000   \n",
       "Ultralight                       7.0              2.000000   \n",
       "Unknown                          0.0              0.000000   \n",
       "Weight-Shift                    60.0             29.000000   \n",
       "\n",
       "                   Total.Serious.Injuries  Total.Minor.Injuries  \n",
       "Aircraft.Category                                                \n",
       "Airplane                      2498.316267           1376.257080  \n",
       "Balloon                         13.000000              5.000000  \n",
       "Blimp                            0.000000              1.000000  \n",
       "Glider                           7.000000              5.000000  \n",
       "Gyrocraft                       14.000000              8.000000  \n",
       "Helicopter                     500.988309            322.297894  \n",
       "Powered Parachute               16.000000             27.000000  \n",
       "Rocket                           0.000000              1.000000  \n",
       "Ultralight                       0.000000              3.000000  \n",
       "Unknown                          0.000000              0.000000  \n",
       "Weight-Shift                    22.000000             21.000000  "
      ]
     },
     "execution_count": 2811,
     "metadata": {},
     "output_type": "execute_result"
    }
   ],
   "source": [
    "aircraft_cat_sum_viz=aviation_df.groupby(['Aircraft.Category']).sum()\n",
    "aircraft_cat_sum_viz"
   ]
  },
  {
   "cell_type": "code",
   "execution_count": 2814,
   "metadata": {},
   "outputs": [
    {
     "data": {
      "image/png": "[encoded data removed]",
      "text/plain": [
       "<Figure size 720x864 with 1 Axes>"
      ]
     },
     "metadata": {
      "needs_background": "light"
     },
     "output_type": "display_data"
    }
   ],
   "source": [
    "#visualizing the aircraft categories statistical data-sum\n",
    "aircraft_cat_sum_viz.plot(kind='bar',figsize=(10,12));\n",
    "plt.xlabel('Aircraft Categories');\n",
    "plt.ylabel('sum');\n",
    "plt.title('Aircraft categories data-sum');\n"
   ]
  },
  {
   "cell_type": "markdown",
   "metadata": {},
   "source": [
    "The sums graph shows that cumulatively the total number of fatal,serious and minor injuries over the given duration is the highest.Its followed by the helicopter."
   ]
  },
  {
   "cell_type": "code",
   "execution_count": 2822,
   "metadata": {},
   "outputs": [
    {
     "data": {
      "text/plain": [
       "Aircraft.Category  Air.carrier           \n",
       "Airplane           Pilot                     195\n",
       "                   ON FILE                    21\n",
       "                   SOUTHWEST AIRLINES CO      17\n",
       "                   American Airlines          13\n",
       "                   Private Individual         11\n",
       "                                            ... \n",
       "Weight-Shift       TANDIELD THEODORE E JR      1\n",
       "                   Tedd R. Hecklin             1\n",
       "                   Thomas Parnow               1\n",
       "                   WENDELBURG KEVIN R          1\n",
       "                   WENZEL JONATHON             1\n",
       "Name: Air.carrier, Length: 8898, dtype: int64"
      ]
     },
     "execution_count": 2822,
     "metadata": {},
     "output_type": "execute_result"
    }
   ],
   "source": [
    "#checking the number of air carriers per aircraft category\n",
    "aircraft_cat_carrier_viz=aviation_df.groupby(['Aircraft.Category'])['Air.carrier'].value_counts()\n",
    "aircraft_cat_carrier_viz"
   ]
  },
  {
   "cell_type": "markdown",
   "metadata": {},
   "source": [
    "The .value count() method above shows the pilot aircarrier,an airplane,is the most commonly bought/used."
   ]
  },
  {
   "cell_type": "code",
   "execution_count": 2830,
   "metadata": {},
   "outputs": [
    {
     "data": {
      "text/plain": [
       "Aircraft.Category  Publication.Date\n",
       "Airplane           2020-09-25          7207\n",
       "                   2020-09-26           274\n",
       "                   2020-03-11            60\n",
       "                   2021-08-20            49\n",
       "                   2020-03-12            32\n",
       "                                       ... \n",
       "Ultralight         2020-09-25             6\n",
       "Unknown            2020-09-25             1\n",
       "Weight-Shift       2020-09-25            59\n",
       "                   2020-03-11             2\n",
       "                   2021-05-20             1\n",
       "Name: Publication.Date, Length: 399, dtype: int64"
      ]
     },
     "execution_count": 2830,
     "metadata": {},
     "output_type": "execute_result"
    }
   ],
   "source": [
    "aviation_df.groupby(['Aircraft.Category'])['Publication.Date'].value_counts()"
   ]
  },
  {
   "cell_type": "code",
   "execution_count": 2826,
   "metadata": {},
   "outputs": [
    {
     "data": {
      "text/html": [
       "<div>\n",
       "<style scoped>\n",
       "    .dataframe tbody tr th:only-of-type {\n",
       "        vertical-align: middle;\n",
       "    }\n",
       "\n",
       "    .dataframe tbody tr th {\n",
       "        vertical-align: top;\n",
       "    }\n",
       "\n",
       "    .dataframe thead th {\n",
       "        text-align: right;\n",
       "    }\n",
       "</style>\n",
       "<table border=\"1\" class=\"dataframe\">\n",
       "  <thead>\n",
       "    <tr style=\"text-align: right;\">\n",
       "      <th></th>\n",
       "      <th>Event.Id</th>\n",
       "      <th>Investigation.Type</th>\n",
       "      <th>Accident.Number</th>\n",
       "      <th>Event.Date</th>\n",
       "      <th>Location</th>\n",
       "      <th>Country</th>\n",
       "      <th>Latitude</th>\n",
       "      <th>Longitude</th>\n",
       "      <th>Injury.Severity</th>\n",
       "      <th>Aircraft.damage</th>\n",
       "      <th>...</th>\n",
       "      <th>Number.of.Engines</th>\n",
       "      <th>Engine.Type</th>\n",
       "      <th>FAR.Description</th>\n",
       "      <th>Air.carrier</th>\n",
       "      <th>Total.Fatal.Injuries</th>\n",
       "      <th>Total.Serious.Injuries</th>\n",
       "      <th>Total.Minor.Injuries</th>\n",
       "      <th>Weather.Condition</th>\n",
       "      <th>Report.Status</th>\n",
       "      <th>Publication.Date</th>\n",
       "    </tr>\n",
       "  </thead>\n",
       "  <tbody>\n",
       "    <tr>\n",
       "      <th>5</th>\n",
       "      <td>20170710X52551</td>\n",
       "      <td>Accident</td>\n",
       "      <td>NYC79AA106</td>\n",
       "      <td>1979-09-17</td>\n",
       "      <td>BOSTON, MA</td>\n",
       "      <td>United States</td>\n",
       "      <td>42.4453</td>\n",
       "      <td>-70.7583</td>\n",
       "      <td>Non-Fatal</td>\n",
       "      <td>Substantial</td>\n",
       "      <td>...</td>\n",
       "      <td>2.0</td>\n",
       "      <td>Turbo Fan</td>\n",
       "      <td>Part 129: Foreign</td>\n",
       "      <td>Air Canada</td>\n",
       "      <td>0.287398</td>\n",
       "      <td>0.306793</td>\n",
       "      <td>1.0</td>\n",
       "      <td>VMC</td>\n",
       "      <td>Probable Cause</td>\n",
       "      <td>2017-09-19</td>\n",
       "    </tr>\n",
       "    <tr>\n",
       "      <th>22</th>\n",
       "      <td>20020917X01657</td>\n",
       "      <td>Accident</td>\n",
       "      <td>ATL82DA027</td>\n",
       "      <td>1982-01-02</td>\n",
       "      <td>CHAMBLEE, GA</td>\n",
       "      <td>United States</td>\n",
       "      <td>Unknown</td>\n",
       "      <td>Unknown</td>\n",
       "      <td>Non-Fatal</td>\n",
       "      <td>Substantial</td>\n",
       "      <td>...</td>\n",
       "      <td>1.0</td>\n",
       "      <td>Turbo Shaft</td>\n",
       "      <td>Part 135: Air Taxi &amp; Commuter</td>\n",
       "      <td>Rocky Mountain Helicopters, In</td>\n",
       "      <td>0.000000</td>\n",
       "      <td>0.000000</td>\n",
       "      <td>0.0</td>\n",
       "      <td>VMC</td>\n",
       "      <td>Probable Cause</td>\n",
       "      <td>1983-02-01</td>\n",
       "    </tr>\n",
       "    <tr>\n",
       "      <th>33</th>\n",
       "      <td>20020917X02254</td>\n",
       "      <td>Accident</td>\n",
       "      <td>LAX82FA038</td>\n",
       "      <td>1982-01-04</td>\n",
       "      <td>NEAR LAS VEGAS, NV</td>\n",
       "      <td>United States</td>\n",
       "      <td>Unknown</td>\n",
       "      <td>Unknown</td>\n",
       "      <td>Fatal(2)</td>\n",
       "      <td>Destroyed</td>\n",
       "      <td>...</td>\n",
       "      <td>2.0</td>\n",
       "      <td>Reciprocating</td>\n",
       "      <td>Part 135: Air Taxi &amp; Commuter</td>\n",
       "      <td>Lang Air Service</td>\n",
       "      <td>2.000000</td>\n",
       "      <td>0.000000</td>\n",
       "      <td>0.0</td>\n",
       "      <td>VMC</td>\n",
       "      <td>Probable Cause</td>\n",
       "      <td>1983-04-01</td>\n",
       "    </tr>\n",
       "    <tr>\n",
       "      <th>39</th>\n",
       "      <td>20020917X01906</td>\n",
       "      <td>Accident</td>\n",
       "      <td>DCA82AA009</td>\n",
       "      <td>1982-01-05</td>\n",
       "      <td>ITHACA, NY</td>\n",
       "      <td>United States</td>\n",
       "      <td>Unknown</td>\n",
       "      <td>Unknown</td>\n",
       "      <td>Fatal(2)</td>\n",
       "      <td>Destroyed</td>\n",
       "      <td>...</td>\n",
       "      <td>2.0</td>\n",
       "      <td>Reciprocating</td>\n",
       "      <td>Part 135: Air Taxi &amp; Commuter</td>\n",
       "      <td>Empire Airlines</td>\n",
       "      <td>2.000000</td>\n",
       "      <td>0.000000</td>\n",
       "      <td>0.0</td>\n",
       "      <td>VMC</td>\n",
       "      <td>Probable Cause</td>\n",
       "      <td>1983-05-01</td>\n",
       "    </tr>\n",
       "    <tr>\n",
       "      <th>43</th>\n",
       "      <td>20020917X02156</td>\n",
       "      <td>Accident</td>\n",
       "      <td>LAX82DA037</td>\n",
       "      <td>1982-01-05</td>\n",
       "      <td>SPRINGERVILLE, AZ</td>\n",
       "      <td>United States</td>\n",
       "      <td>Unknown</td>\n",
       "      <td>Unknown</td>\n",
       "      <td>Non-Fatal</td>\n",
       "      <td>Substantial</td>\n",
       "      <td>...</td>\n",
       "      <td>1.0</td>\n",
       "      <td>Reciprocating</td>\n",
       "      <td>Part 135: Air Taxi &amp; Commuter</td>\n",
       "      <td>Joel Frederick's Monarch Air</td>\n",
       "      <td>0.000000</td>\n",
       "      <td>0.000000</td>\n",
       "      <td>0.0</td>\n",
       "      <td>VMC</td>\n",
       "      <td>Probable Cause</td>\n",
       "      <td>1983-05-01</td>\n",
       "    </tr>\n",
       "  </tbody>\n",
       "</table>\n",
       "<p>5 rows × 25 columns</p>\n",
       "</div>"
      ],
      "text/plain": [
       "          Event.Id Investigation.Type Accident.Number Event.Date  \\\n",
       "5   20170710X52551           Accident      NYC79AA106 1979-09-17   \n",
       "22  20020917X01657           Accident      ATL82DA027 1982-01-02   \n",
       "33  20020917X02254           Accident      LAX82FA038 1982-01-04   \n",
       "39  20020917X01906           Accident      DCA82AA009 1982-01-05   \n",
       "43  20020917X02156           Accident      LAX82DA037 1982-01-05   \n",
       "\n",
       "              Location        Country Latitude Longitude Injury.Severity  \\\n",
       "5           BOSTON, MA  United States  42.4453  -70.7583       Non-Fatal   \n",
       "22        CHAMBLEE, GA  United States  Unknown   Unknown       Non-Fatal   \n",
       "33  NEAR LAS VEGAS, NV  United States  Unknown   Unknown        Fatal(2)   \n",
       "39          ITHACA, NY  United States  Unknown   Unknown        Fatal(2)   \n",
       "43   SPRINGERVILLE, AZ  United States  Unknown   Unknown       Non-Fatal   \n",
       "\n",
       "   Aircraft.damage  ... Number.of.Engines    Engine.Type  \\\n",
       "5      Substantial  ...               2.0      Turbo Fan   \n",
       "22     Substantial  ...               1.0    Turbo Shaft   \n",
       "33       Destroyed  ...               2.0  Reciprocating   \n",
       "39       Destroyed  ...               2.0  Reciprocating   \n",
       "43     Substantial  ...               1.0  Reciprocating   \n",
       "\n",
       "                  FAR.Description                     Air.carrier  \\\n",
       "5               Part 129: Foreign                      Air Canada   \n",
       "22  Part 135: Air Taxi & Commuter  Rocky Mountain Helicopters, In   \n",
       "33  Part 135: Air Taxi & Commuter                Lang Air Service   \n",
       "39  Part 135: Air Taxi & Commuter                 Empire Airlines   \n",
       "43  Part 135: Air Taxi & Commuter    Joel Frederick's Monarch Air   \n",
       "\n",
       "   Total.Fatal.Injuries  Total.Serious.Injuries Total.Minor.Injuries  \\\n",
       "5              0.287398                0.306793                  1.0   \n",
       "22             0.000000                0.000000                  0.0   \n",
       "33             2.000000                0.000000                  0.0   \n",
       "39             2.000000                0.000000                  0.0   \n",
       "43             0.000000                0.000000                  0.0   \n",
       "\n",
       "   Weather.Condition   Report.Status  Publication.Date  \n",
       "5                VMC  Probable Cause        2017-09-19  \n",
       "22               VMC  Probable Cause        1983-02-01  \n",
       "33               VMC  Probable Cause        1983-04-01  \n",
       "39               VMC  Probable Cause        1983-05-01  \n",
       "43               VMC  Probable Cause        1983-05-01  \n",
       "\n",
       "[5 rows x 25 columns]"
      ]
     },
     "execution_count": 2826,
     "metadata": {},
     "output_type": "execute_result"
    }
   ],
   "source": [
    "aviation_df.head()"
   ]
  }
 ],
 "metadata": {
  "kernelspec": {
   "display_name": "learn-env",
   "language": "python",
   "name": "python3"
  },
  "language_info": {
   "codemirror_mode": {
    "name": "ipython",
    "version": 3
   },
   "file_extension": ".py",
   "mimetype": "text/x-python",
   "name": "python",
   "nbconvert_exporter": "python",
   "pygments_lexer": "ipython3",
   "version": "3.8.5"
  }
 },
 "nbformat": 4,
 "nbformat_minor": 2
}
